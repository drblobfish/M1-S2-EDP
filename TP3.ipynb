{
 "cells": [
  {
   "cell_type": "markdown",
   "metadata": {},
   "source": [
    "# TP3 : Différences finies pour les équations elliptiques"
   ]
  },
  {
   "cell_type": "code",
   "execution_count": 71,
   "metadata": {},
   "outputs": [],
   "source": [
    "import numpy as np\n",
    "from numpy import linalg as la\n",
    "import matplotlib.pyplot as plt\n",
    "from sympy import Function, dsolve, Derivative, checkodesol, sin, pi\n",
    "from sympy.abc import x"
   ]
  },
  {
   "cell_type": "markdown",
   "metadata": {},
   "source": [
    "Dans ce TP, on va se servir de la fonction `la.solve(A,b)` qui résoud les équations linéaires $Ax=b$ et de la commande `M = np.diagflat( vect, k )` qui crée une matrice carrée $M$ (de dimension  `len(vect)+|k|` avec les éléments du vecteur `vect` sur la  `k`-diagonale (matrice $A = (a_{ij})$, $k=0$ diagonale principale $j=i$, $k$-diagonale $j = k+i$). "
   ]
  },
  {
   "cell_type": "code",
   "execution_count": 2,
   "metadata": {},
   "outputs": [
    {
     "data": {
      "text/plain": [
       "array([[0., 0., 0., 0., 0.],\n",
       "       [1., 0., 0., 0., 0.],\n",
       "       [0., 1., 0., 0., 0.],\n",
       "       [0., 0., 1., 0., 0.],\n",
       "       [0., 0., 0., 1., 0.]])"
      ]
     },
     "execution_count": 2,
     "metadata": {},
     "output_type": "execute_result"
    }
   ],
   "source": [
    "# Test np.diagflat\n",
    "\n",
    "N = 5 \n",
    "vect = np.ones(N-1)\n",
    "M = np.diagflat(vect, -1)\n",
    "M"
   ]
  },
  {
   "cell_type": "markdown",
   "metadata": {},
   "source": [
    "Quelques rappels utiles\n",
    "\n",
    "| | |\n",
    "|-|-|\n",
    "| `np.array((n, p))` | Définit une matrice 2D dans $\\mathcal{M}_{2,3}(\\mathbb{R})$ |\n",
    "| `np.ones((2,3))`, ou `np.zeros((2,3))` | Définit une matrice 2D dans $\\mathcal{M}_{2,3}(\\mathbb{R})$ remplie de 1, ou 0 |\n",
    "| `A[2,:]` (ou `A[:,2]` ) | Renvoie la 3e ligne (ou colonne) de la matrice `A` (comme vecteur 1D) |\n",
    "| `max(abs(x))` |  calcule $\\max_{i=1,...,N} \\lvert x_i \\rvert$ |\n"
   ]
  },
  {
   "cell_type": "markdown",
   "metadata": {},
   "source": [
    "## Équation de Poisson avec conditions de Dirichlet : différences finies"
   ]
  },
  {
   "cell_type": "markdown",
   "metadata": {},
   "source": [
    "On considère le problème de Poisson avec les conditions de Dirichlet homogènes, \n",
    "\n",
    "\\begin{equation}\n",
    "    \\begin{cases}\n",
    "    - u''(x) + u(x)  = f(x) & x\\in]0,1[ \\\\\n",
    "    u(0) = u(1) = 0, &\n",
    "    \\end{cases}\n",
    "     \\tag{$P_D$}\n",
    "\\end{equation}\n",
    "\n",
    "avec $f \\in \\mathcal{C}^0([0,1])$. "
   ]
  },
  {
   "cell_type": "markdown",
   "metadata": {},
   "source": [
    "On veut construire une approximation de la solution $u$ par un schéma de différences finies.\n",
    "\n",
    "Pour $N\\in\\mathbb{N}^*$, on pose $h = 1/(N+1)$ et on considère le maillage uniforme $x_i = ih$, pour $i=0,1,\\cdots, N+1$, avec $x_0=0$ et $x_{N+1} = 1$. On cherche de calculer des valeurs d'approximation $u_i\\approx u(x_i)$, pour $i=0,1,\\dots, N+1$ avec les valeurs renforcées au bord $u_0 = 0$ et $u_{N+1}= 0$. Pour ce faire, on introduit la discrétisation différences finies suivante\n",
    "\n",
    "\\begin{equation} \n",
    "    \\begin{cases}\n",
    "    u_0 = 0 \\\\\n",
    "    \\displaystyle- \\frac{u_{i+1} - 2u_i + u_{i-1}}{h^2}+ u_i = f(x_i) &i\\in\\{1,2,\\cdots N\\}\\\\\n",
    "    u_{N+1} = 0.\n",
    "    \\end{cases} \n",
    "    \\tag{$DF_D$}\n",
    "\\end{equation}"
   ]
  },
  {
   "cell_type": "markdown",
   "metadata": {},
   "source": [
    "Les inconnues du problème discret sont les valeurs $u_1,u_2, \\cdots u_N$. On note le vecteur solution\n",
    "\n",
    "$$ U_h = (u_0, u_1,u_2, \\cdots, u_N, u_{N+1})^T.$$"
   ]
  },
  {
   "cell_type": "markdown",
   "metadata": {},
   "source": [
    "**(1)** Trouver les solutions explicites quand $f(x) = 1$ et $f(x)  = \\sin(10\\pi x)$ et tracer leurs graphes.\n"
   ]
  },
  {
   "cell_type": "code",
   "execution_count": 65,
   "metadata": {},
   "outputs": [
    {
     "data": {
      "text/latex": [
       "$\\displaystyle y{\\left(x \\right)} = C_{1} e^{- x} + C_{2} e^{x} + 1$"
      ],
      "text/plain": [
       "Eq(y(x), C1*exp(-x) + C2*exp(x) + 1)"
      ]
     },
     "execution_count": 65,
     "metadata": {},
     "output_type": "execute_result"
    }
   ],
   "source": [
    "y = Function('y')\n",
    "\n",
    "# Solve the ODE\n",
    "\n",
    "result = dsolve(-Derivative(y(x), x, x) + y(x)-1)\n",
    "result"
   ]
  },
  {
   "cell_type": "code",
   "execution_count": 69,
   "metadata": {},
   "outputs": [],
   "source": [
    "def solex_1(x):\n",
    "    return 1 + (-np.exp(x)/(1+np.e)) - (np.exp(1-x)/(1+np.e))"
   ]
  },
  {
   "cell_type": "code",
   "execution_count": 73,
   "metadata": {},
   "outputs": [
    {
     "data": {
      "text/latex": [
       "$\\displaystyle y{\\left(x \\right)} = C_{1} e^{- x} + C_{2} e^{x} + \\frac{\\sin{\\left(10 \\pi x \\right)}}{1 + 100 \\pi^{2}}$"
      ],
      "text/plain": [
       "Eq(y(x), C1*exp(-x) + C2*exp(x) + sin(10*pi*x)/(1 + 100*pi**2))"
      ]
     },
     "execution_count": 73,
     "metadata": {},
     "output_type": "execute_result"
    }
   ],
   "source": [
    "y = Function('y')\n",
    "\n",
    "# Solve the ODE\n",
    "\n",
    "result = dsolve(-Derivative(y(x), x, x) + y(x)-sin(10 * pi * x))\n",
    "result"
   ]
  },
  {
   "cell_type": "markdown",
   "metadata": {},
   "source": [
    "avec les conditions au bords, on a $C_1 = C_2 = 0$"
   ]
  },
  {
   "cell_type": "code",
   "execution_count": 79,
   "metadata": {},
   "outputs": [],
   "source": [
    "def solex_2(x):\n",
    "    return np.sin(10*np.pi*x)/(1+ 100 * np.pi**2)\n"
   ]
  },
  {
   "cell_type": "markdown",
   "metadata": {},
   "source": [
    "**(2)** Définir dans une fonction Python `MDF(N,fct)` qui construit la matrice $A_h$ et le vecteur $F_h$ tels que le système discret ($DF_D$) s'écrit de manière équivalente sous la forme vectorielle\n",
    "\\begin{equation}\n",
    "A_h U_h = F_h\n",
    "\\end{equation}\n",
    "\n",
    "où $F_h = (0, f(x_1), f(x_2), \\cdots f(x_N), 0)^T$."
   ]
  },
  {
   "cell_type": "code",
   "execution_count": 129,
   "metadata": {},
   "outputs": [],
   "source": [
    "def MDF(N,fct):\n",
    "    h = 1/(N+1)\n",
    "    \n",
    "    # matrice diagonale \n",
    "  \n",
    "    vect0 = np.repeat(2/(h**2),N+1)\n",
    "    vect0[0] = 1\n",
    "    vect0[-1] = 1\n",
    "    A0 = np.diagflat(vect0, 0)\n",
    "    \n",
    "    # matrice supérieure\n",
    "    vect1 = np.repeat(-1/(h**2),N)\n",
    "    A1 = np.diagflat(vect1, 1)\n",
    "   \n",
    "    # matrice inférieure\n",
    "\n",
    "    A2 = np.diagflat(vect1, -1)\n",
    " \n",
    "\n",
    "    Ah = A0 + A1 +A2\n",
    "    Ah[0,1] = 0\n",
    "    Ah[-1,-2] = 0\n",
    "    \n",
    "    \n",
    "    # Fh\n",
    "    Fh = np.zeros((N+1,1))\n",
    "    Fh[1:N,0] = fct(np.linspace(0,1,N+1)[1:N])\n",
    "    Fh[0,0] = 0\n",
    "    Fh[-1,0] = 0\n",
    "\n",
    "\n",
    "    return Ah, Fh"
   ]
  },
  {
   "cell_type": "code",
   "execution_count": 130,
   "metadata": {},
   "outputs": [
    {
     "data": {
      "text/plain": [
       "(array([[  1.,   0.,   0.,   0.,   0.],\n",
       "        [-25.,  50., -25.,   0.,   0.],\n",
       "        [  0., -25.,  50., -25.,   0.],\n",
       "        [  0.,   0., -25.,  50., -25.],\n",
       "        [  0.,   0.,   0.,   0.,   1.]]),\n",
       " array([[0.],\n",
       "        [1.],\n",
       "        [1.],\n",
       "        [1.],\n",
       "        [0.]]))"
      ]
     },
     "execution_count": 130,
     "metadata": {},
     "output_type": "execute_result"
    }
   ],
   "source": [
    "Ah,Fh = MDF(4,lambda x: 1)\n",
    "Ah,Fh"
   ]
  },
  {
   "cell_type": "code",
   "execution_count": 131,
   "metadata": {},
   "outputs": [
    {
     "data": {
      "text/plain": [
       "array([[-0.  ],\n",
       "       [ 0.06],\n",
       "       [ 0.08],\n",
       "       [ 0.06],\n",
       "       [ 0.  ]])"
      ]
     },
     "execution_count": 131,
     "metadata": {},
     "output_type": "execute_result"
    }
   ],
   "source": [
    "la.solve(Ah,Fh)"
   ]
  },
  {
   "cell_type": "markdown",
   "metadata": {},
   "source": [
    "**(3)** Poser ensuite une fonction `FDS(N,fct)` qui calcule la solution approchée pour différentes valeurs de $N$ et qui renvoie le vecteur `$[x,h,U_h]$`. "
   ]
  },
  {
   "cell_type": "code",
   "execution_count": 132,
   "metadata": {},
   "outputs": [],
   "source": [
    "def FDS(N, fct):\n",
    "    Ah,Fh = MDF(N,fct)\n",
    "    Uh = la.solve(Ah,Fh)\n",
    "    x = np.linspace(0,1,N+1)\n",
    "    h = 1/(N+1)\n",
    "    return x, h, Uh"
   ]
  },
  {
   "cell_type": "markdown",
   "metadata": {},
   "source": [
    "**(4)** Tracer en pointillé les solutions approchées à côté des solutions exactes."
   ]
  },
  {
   "cell_type": "code",
   "execution_count": 135,
   "metadata": {},
   "outputs": [
    {
     "data": {
      "text/plain": [
       "[<matplotlib.lines.Line2D at 0x7f61d94b0cd0>]"
      ]
     },
     "execution_count": 135,
     "metadata": {},
     "output_type": "execute_result"
    },
    {
     "data": {
      "image/png": "[encoded data removed]",
      "text/plain": [
       "<Figure size 640x480 with 1 Axes>"
      ]
     },
     "metadata": {},
     "output_type": "display_data"
    }
   ],
   "source": [
    "x, h, Uh = FDS(200,lambda x : 1)\n",
    "plt.plot(x,Uh[:,0],\":\")\n",
    "plt.plot(x,solex_1(x))"
   ]
  },
  {
   "cell_type": "code",
   "execution_count": 122,
   "metadata": {},
   "outputs": [
    {
     "data": {
      "text/plain": [
       "[<matplotlib.lines.Line2D at 0x7f61d8e463b0>]"
      ]
     },
     "execution_count": 122,
     "metadata": {},
     "output_type": "execute_result"
    },
    {
     "data": {
      "image/png": "[encoded data removed]",
      "text/plain": [
       "<Figure size 640x480 with 1 Axes>"
      ]
     },
     "metadata": {},
     "output_type": "display_data"
    }
   ],
   "source": [
    "x, h, Uh = FDS(100,lambda x : np.sin(10*np.pi*x))\n",
    "plt.plot(x,Uh[:,0],\":\")\n",
    "plt.plot(x,solex_2(x))"
   ]
  },
  {
   "cell_type": "markdown",
   "metadata": {},
   "source": [
    "**(5)** Calculer pour $h = 1/2^k$ avec $k =1,2, \\dots,8$, l'erreur \n",
    "$$\n",
    "E(h)= \\left\\| U - \\Pi_h(u) \\right\\|_\\infty,\n",
    "$$\n",
    "\n",
    "à l'aide de la commande `max(abs())`, pour $f =1$."
   ]
  },
  {
   "cell_type": "code",
   "execution_count": 123,
   "metadata": {},
   "outputs": [],
   "source": [
    "Kmax = 8\n",
    "H = np.zeros(Kmax)\n",
    "Eh = np.zeros(Kmax)\n",
    "for k in range(Kmax):\n",
    "    x, h, Uh = FDS(2**(k+1),lambda x : 1)\n",
    "    \n",
    "    H[k] = 1/(2**(k+1))\n",
    "    Eh[k] = np.max(np.abs(Uh.reshape(-1) - solex_1(x)))"
   ]
  },
  {
   "cell_type": "markdown",
   "metadata": {},
   "source": [
    "**(6)** Tracer  à l'échelle logarithmique, en utilisant `plt.loglog(...)`, cette erreur en fonction de $h$ et vérifier que la méthode est d'ordre $2$."
   ]
  },
  {
   "cell_type": "code",
   "execution_count": 124,
   "metadata": {},
   "outputs": [
    {
     "data": {
      "text/plain": [
       "array([0.05762556, 0.03318112, 0.01441568, 0.00245447, 0.00435791,\n",
       "       0.00800232, 0.00988841, 0.01084801])"
      ]
     },
     "execution_count": 124,
     "metadata": {},
     "output_type": "execute_result"
    }
   ],
   "source": [
    "Eh"
   ]
  },
  {
   "cell_type": "code",
   "execution_count": 125,
   "metadata": {},
   "outputs": [
    {
     "data": {
      "text/plain": [
       "[<matplotlib.lines.Line2D at 0x7f61d8ec5780>]"
      ]
     },
     "execution_count": 125,
     "metadata": {},
     "output_type": "execute_result"
    },
    {
     "data": {
      "image/png": "[encoded data removed]",
      "text/plain": [
       "<Figure size 640x480 with 1 Axes>"
      ]
     },
     "metadata": {},
     "output_type": "display_data"
    }
   ],
   "source": [
    "plt.loglog(H,Eh)\n"
   ]
  },
  {
   "cell_type": "code",
   "execution_count": null,
   "metadata": {},
   "outputs": [],
   "source": []
  },
  {
   "cell_type": "markdown",
   "metadata": {},
   "source": [
    "## Équation de Poisson avec conditions de Neumann : différences finies"
   ]
  },
  {
   "cell_type": "markdown",
   "metadata": {},
   "source": [
    "Dans cette partie, on considère le problème de Poisson avec les conditions de Neumann, \n",
    "\n",
    "\\begin{equation}\n",
    "    \\begin{cases}\n",
    "    - u''(x) + u(x)  = f(x) & x\\in]0,1[  \\\\\n",
    "    -u'(0) = g_0, u'(1) = g_1, &\n",
    "    \\end{cases}\n",
    "     \\tag{PN}\n",
    "\\end{equation}\n",
    "\n",
    "avec $f \\in \\mathcal{C}^0([0,1])$. "
   ]
  },
  {
   "cell_type": "markdown",
   "metadata": {},
   "source": [
    "### Schéma d'ordre $1$ (Exercice $1$ du TD3)"
   ]
  },
  {
   "cell_type": "markdown",
   "metadata": {},
   "source": [
    "On veut construire une approximation de la solution $u$ par un schéma de différences finies.\n",
    "\n",
    "Pour $N\\in\\mathbb{N}^*$, on pose $h = 1/(N+1)$ et on considère le maillage uniforme $x_i = ih$, pour $i=0,1,\\cdots, N+1$, avec $x_0=0$ et $x_{N+1} = 1$ et pour approcher les conditions aux limites de Neumann, on utilise les dérivées discrètes à gauche et à droite de $u$ :\n",
    "\n",
    "$$\n",
    "    \\begin{split}\n",
    "    -u'(0) &\\simeq -D_+ u(0) = \\frac{u(0)-u(h)}{h} = \\frac{u(x_0)-u(x_1)}{h}, \\\\\n",
    "    u'(1) &\\simeq D_- u(1) = \\frac{u(1)-u(1-h)}{h} = \\frac{u(x_{N+1})-u(x_N)}{h}.\n",
    "    \\end{split}\n",
    "$$"
   ]
  },
  {
   "cell_type": "markdown",
   "metadata": {},
   "source": [
    "Le schéma numérique s'écrit alors \n",
    "\n",
    "\\begin{equation} \n",
    "    \\begin{cases}\n",
    "    \\displaystyle-\\frac{u_0 - u_1}{h} = g_0 \\\\\n",
    "    \\displaystyle- \\frac{u_{i+1} - 2u_i + u_{i-1}}{h^2}+ u_i = f(x_i) &i\\in\\{1,2,\\cdots N\\}\\\\\n",
    "    \\displaystyle-\\frac{u_{N+1} - u_N}{h} = g_1.\n",
    "    \\end{cases} \n",
    "\\end{equation}"
   ]
  },
  {
   "cell_type": "markdown",
   "metadata": {},
   "source": [
    "**(1)** Trouver la solution explicite quand $f(x) = 1$ et $g_0 = g_1 = 1$ et tracer son graphe."
   ]
  },
  {
   "cell_type": "code",
   "execution_count": null,
   "metadata": {},
   "outputs": [],
   "source": [
    "def solex(x):\n",
    "    la = \n",
    "    return\n"
   ]
  },
  {
   "cell_type": "markdown",
   "metadata": {},
   "source": [
    "**(2)** Définir dans une fonction Python `NMDF(N,fct)` qui construit la matrice $A_h$ et le vecteur $F_h$ tels que le système discret ($DF_N$) s'écrive de la manière suivante \n",
    "\\begin{equation}\n",
    "A_h U_h = F_h\n",
    "\\end{equation}\n",
    "\n",
    "où $F_h = (g_0, f(x_1), f(x_2), \\cdots f(x_N), g_1)^T$."
   ]
  },
  {
   "cell_type": "code",
   "execution_count": 47,
   "metadata": {},
   "outputs": [],
   "source": [
    "def NFDM(N,fct,g0,g1):\n",
    "    h = 1/(N+1)\n",
    "    \n",
    "    # matrice diagonale \n",
    "    \n",
    "    vect0 = np.repeat(2/(h**2),N+1)\n",
    "    vect0[0] = 1/h\n",
    "    vect[-1] = 1/h\n",
    "    A0 = np.diagflat(vect0, 0)\n",
    "    \n",
    "    # matrice supérieure\n",
    "    vect1 = np.repeat(-1/(h**2),N)\n",
    "    A1 = np.diagflat(vect1, 1)\n",
    "   \n",
    "    # matrice inférieure\n",
    "\n",
    "    A2 = np.diagflat(vect1, -1)\n",
    " \n",
    "\n",
    "    Ah = A0 + A1 +A2\n",
    "    Ah[0,1] = -1/h\n",
    "    Ah[-1,-2] = -1/h\n",
    "    \n",
    "    # Fh\n",
    "    Fh = np.zeros((N+1,1))\n",
    "    Fh[1:N,0] = fct(np.linspace(0,1,N+1)[1:N])\n",
    "    Fh[0,0] = g0\n",
    "    Fh[-1,0] = g1\n",
    "\n",
    "    return Ah, Fh"
   ]
  },
  {
   "cell_type": "code",
   "execution_count": 49,
   "metadata": {},
   "outputs": [
    {
     "data": {
      "text/plain": [
       "(array([[  5.,  -5.,   0.,   0.,   0.],\n",
       "        [-25.,  50., -25.,   0.,   0.],\n",
       "        [  0., -25.,  50., -25.,   0.],\n",
       "        [  0.,   0., -25.,  50., -25.],\n",
       "        [  0.,   0.,   0.,  -5.,  50.]]),\n",
       " array([[1.],\n",
       "        [1.],\n",
       "        [1.],\n",
       "        [1.],\n",
       "        [1.]]))"
      ]
     },
     "execution_count": 49,
     "metadata": {},
     "output_type": "execute_result"
    }
   ],
   "source": [
    "Ah,Fh = NFDM(4,lambda x: 1,1,1)\n",
    "Ah,Fh"
   ]
  },
  {
   "cell_type": "markdown",
   "metadata": {},
   "source": [
    "**(3)** Poser ensuite une fonction `FDSN(N,fct,g0,g1)` qui calcule la solution approchée pour différentes valeurs de $N$ et qui renvoie le vecteur `$[x,h,U_h]$`. "
   ]
  },
  {
   "cell_type": "code",
   "execution_count": 50,
   "metadata": {},
   "outputs": [],
   "source": [
    "def FDSN(N, fct,g0 , g1):\n",
    "    Ah,Fh = NFDM(N,fct,g0,g1)\n",
    "    Uh = la.solve(Ah,Fh)\n",
    "    x = np.linspace(0,1,N+1)\n",
    "    h = 1/(N+1)\n",
    "    return x, h, Uh"
   ]
  },
  {
   "cell_type": "markdown",
   "metadata": {},
   "source": [
    "**(4)** Tracer en pointillés la solution approchée à côté de la solution exacte pour $f\\equiv 1$, $g_0=g_1=1$ et `N =500`."
   ]
  },
  {
   "cell_type": "code",
   "execution_count": 51,
   "metadata": {},
   "outputs": [
    {
     "data": {
      "text/plain": [
       "[<matplotlib.lines.Line2D at 0x7f61e98c3eb0>]"
      ]
     },
     "execution_count": 51,
     "metadata": {},
     "output_type": "execute_result"
    },
    {
     "data": {
      "image/png": "[encoded data removed]",
      "text/plain": [
       "<Figure size 640x480 with 1 Axes>"
      ]
     },
     "metadata": {},
     "output_type": "display_data"
    }
   ],
   "source": [
    "x, h, Uh = FDSN(500,lambda x : 1,1,1)\n",
    "plt.plot(x,Uh[:,0])   \n",
    "\n"
   ]
  },
  {
   "cell_type": "markdown",
   "metadata": {},
   "source": [
    "**(5)** Calculer pour $h = 1/2^k$ avec $k =1,2, \\dots,8$, l'erreur \n",
    "$$\n",
    "E(h)= \\left\\| U - \\Pi_h(u) \\right\\|_\\infty,\n",
    "$$\n",
    "\n",
    "à l'aide de la commande `max(abs())`, pour $f \\equiv 1$, $g_0=g_1=1$. Puis tracer à l'échelle logarithmique, en utilisant `plt.loglog(...)`, cette erreur en fonction de $h$ et vérifier que la méthode est d'ordre $2$."
   ]
  },
  {
   "cell_type": "code",
   "execution_count": null,
   "metadata": {},
   "outputs": [],
   "source": []
  },
  {
   "cell_type": "code",
   "execution_count": null,
   "metadata": {},
   "outputs": [],
   "source": []
  },
  {
   "cell_type": "code",
   "execution_count": null,
   "metadata": {},
   "outputs": [],
   "source": []
  },
  {
   "cell_type": "markdown",
   "metadata": {},
   "source": [
    "### Schéma à l'ordre 2 (Exercice 2 du TD3)"
   ]
  },
  {
   "cell_type": "markdown",
   "metadata": {},
   "source": [
    "Dans cette partie, on utilise une nouvelle méthode imposant les conditions aux limites avec des différences finies centrées de $u$\n",
    "\n",
    "$$\n",
    "    D_c u(0) = \\frac{u(h)-u(-h)}{2h}  \\quad \\text{et} \\quad D_c u(1) = \\frac{u(1+h)-u(1-h)}{2h}.\n",
    "$$\n",
    "\n",
    "Dans ce cas, le maillage étendu est $x_{-1} = - h < x_0 < x_1 < \\cdots < x_{N+1} < x_{N+2} = 1+h$, les points du maillage $x_i = i h$ pour $h = 1 / (N+1)$, $N \\in \\mathbb{N}^*$ et $i = -1, \\dots, N+2$, et l'opérateur échantillonnage associé $\\Pi_h : C([0,1]) \\to \\mathbb{R}^{N+4}$\n",
    "\n",
    "$$\n",
    "    \\Pi_h(u) = [u(x_{-1}), u(x_0), u(x_1), \\dots, u(x_{N+1}), u(x_{N+2})]^T.\n",
    "$$\n",
    "\n",
    "où on suppose que les valeurs $u(x_{-1})$ et $u(x_{N+2})$ sont obtenues par extrapolation (d'ordre suffisamment élevé). On obtient la méthode suivante\n",
    "\n",
    "\\begin{equation}\n",
    "    \\begin{cases}\n",
    "        \\displaystyle -\\frac{u_{i+1}-2u_{i}+u_{i-1}}{h^2} + c(x_i) u_{i} = f(x_i) &i = 0, \\dots, N+1\\\\\n",
    "        \\displaystyle \\frac{u_{-1} - u_{1}}{2h} = g_0, \\, \\frac{u_{N+2} - u_{N}}{2h} = g_1.\n",
    "    \\end{cases}\n",
    "    \\tag{$DF_{NC}$}\n",
    "\\end{equation}"
   ]
  },
  {
   "cell_type": "markdown",
   "metadata": {},
   "source": [
    "**(1)** Reprenez les étapes du schéma d'ordre $1$ pour calculer la solution et tracer sur un même graphique les solutions trouvées avec ($DF_N$) et ($DF_{NC}$) dans le cas $f\\equiv 1$ et $g_0= g_1 =1$."
   ]
  },
  {
   "cell_type": "code",
   "execution_count": null,
   "metadata": {},
   "outputs": [],
   "source": [
    "def NCFDM(N,fct,g0,g1):\n",
    "    h = 1/(N+1)\n",
    "\n",
    "    # matrice diagonale \n",
    "\n",
    "    \n",
    "    \n",
    "    A0 = np.diagflat(vect0, 0)\n",
    "    \n",
    "    \n",
    "    \n",
    "    # matrice supérieure \n",
    "    A1 = np.diagflat(vect1, 1)\n",
    "\n",
    "    \n",
    "    # matrice inférieure\n",
    "    A2 = np.diagflat(vect1, -1)\n",
    "\n",
    "    \n",
    "    Ah = A0 + A1 +A2\n",
    "    \n",
    "    ## x, Fh\n",
    "    x = np.linspace(0,1,N+2)\n",
    "    Fh = fct(x)\n",
    "\n",
    "    #x = [-h ,x ,1+h ]\n",
    "\n",
    "    \n",
    "    #Fh = [g0, F, g1]\n",
    "  \n",
    "    \n",
    "    return Ah, Fh"
   ]
  },
  {
   "cell_type": "code",
   "execution_count": null,
   "metadata": {},
   "outputs": [],
   "source": [
    "# Test \n",
    "\n",
    "N=8\n",
    "g0 = 2\n",
    "g1 = 2\n",
    "Ah , Fh = NCFDM(N,fct1,g0,g1)\n",
    "print(Ah)\n",
    "print(Fh)"
   ]
  },
  {
   "cell_type": "code",
   "execution_count": null,
   "metadata": {},
   "outputs": [],
   "source": [
    "def FDSNC(N, fct,g0 , g1):\n",
    "\n",
    "\n",
    "    \n",
    "    \n",
    "    \n",
    "    \n",
    "    return X, h, Uh"
   ]
  },
  {
   "cell_type": "code",
   "execution_count": null,
   "metadata": {},
   "outputs": [],
   "source": []
  },
  {
   "cell_type": "markdown",
   "metadata": {},
   "source": [
    "**(2)** Calculer pour $h = 1/2^k$ avec $k =1,2, \\dots,8$, l'erreur \n",
    "$$\n",
    "E(h)= \\left\\| U - \\Pi_h(u) \\right\\|_\\infty,\n",
    "$$\n",
    "\n",
    "à l'aide de la commande `max(abs())`, pour $f \\equiv 1$, $g_0=g_1=1$. Puis tracer à l'échelle logarithmique, en utilisant `plt.loglog(...)`, cette erreur en fonction de $h$ et vérifier que la méthode est d'ordre $2$."
   ]
  },
  {
   "cell_type": "code",
   "execution_count": null,
   "metadata": {},
   "outputs": [],
   "source": []
  },
  {
   "cell_type": "code",
   "execution_count": null,
   "metadata": {},
   "outputs": [],
   "source": []
  },
  {
   "cell_type": "code",
   "execution_count": null,
   "metadata": {},
   "outputs": [],
   "source": []
  },
  {
   "cell_type": "markdown",
   "metadata": {},
   "source": [
    "# Exercice : Condition de Neumann/Dirichlet"
   ]
  },
  {
   "cell_type": "markdown",
   "metadata": {},
   "source": [
    "Combiner les deux dernières sections pour développer deux shémas d'ordre $1$ et $2$ respectivement, pour résoudre \n",
    "\n",
    "\\begin{equation}\n",
    "    \\begin{cases}\n",
    "    - u''(x) + u(x)  = 1 & x\\in]0,1[ \\\\\n",
    "    u'(0) = 1, \\, u(1) = 0. &\n",
    "    \\end{cases}\n",
    "\\end{equation}\n",
    "\n",
    "**Attention :** on a $u'(0)=1$ et non pas $-u'(0)= 1$ comme précédement !"
   ]
  },
  {
   "cell_type": "code",
   "execution_count": null,
   "metadata": {},
   "outputs": [],
   "source": []
  },
  {
   "cell_type": "code",
   "execution_count": null,
   "metadata": {},
   "outputs": [],
   "source": []
  },
  {
   "cell_type": "code",
   "execution_count": null,
   "metadata": {},
   "outputs": [],
   "source": []
  },
  {
   "cell_type": "code",
   "execution_count": null,
   "metadata": {},
   "outputs": [],
   "source": []
  }
 ],
 "metadata": {
  "kernelspec": {
   "display_name": "Python 3 (ipykernel)",
   "language": "python",
   "name": "python3"
  },
  "language_info": {
   "codemirror_mode": {
    "name": "ipython",
    "version": 3
   },
   "file_extension": ".py",
   "mimetype": "text/x-python",
   "name": "python",
   "nbconvert_exporter": "python",
   "pygments_lexer": "ipython3",
   "version": "3.11.2"
  }
 },
 "nbformat": 4,
 "nbformat_minor": 4
}
