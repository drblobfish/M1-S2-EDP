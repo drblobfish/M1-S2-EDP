{
 "cells": [
  {
   "cell_type": "markdown",
   "metadata": {},
   "source": [
    "# TP4 : Différences finies pour les équations paraboliques"
   ]
  },
  {
   "cell_type": "code",
   "execution_count": 1,
   "metadata": {},
   "outputs": [
    {
     "name": "stderr",
     "output_type": "stream",
     "text": [
      "/home/jules/.venv/main/lib/python3.11/site-packages/matplotlib/projections/__init__.py:63: UserWarning: Unable to import Axes3D. This may be due to multiple versions of Matplotlib being installed (e.g. as a system package and as a pip package). As a result, the 3D projection is not available.\n",
      "  warnings.warn(\"Unable to import Axes3D. This may be due to multiple versions of \"\n"
     ]
    }
   ],
   "source": [
    "import numpy as np\n",
    "from numpy import linalg as la\n",
    "import matplotlib.pyplot as plt"
   ]
  },
  {
   "cell_type": "markdown",
   "metadata": {},
   "source": [
    "Commandes utiles : `np.eye(N,N)`\n",
    "\n",
    "| | |\n",
    "|-|-|\n",
    "| `np.array((n, p))` | Définit une matrice 2D dans $\\mathcal{M}_{n,p}(\\mathbb{R})$ |\n",
    "| `np.ones((2,3))`, ou `np.zeros((2,3))` | Définit une matrice 2D dans $\\mathcal{M}_{2,3}(\\mathbb{R})$ remplie de 1, ou 0 |\n",
    "| `A[2,:]` (ou `A[:,2]` ) | Renvoie la 3e ligne (ou colonne) de la matrice `A` (comme vecteur 1D) |\n",
    "| `max(abs(x))` |  calcule $\\max_{i=1,...,N} \\lvert x_i \\rvert$ |\n",
    "| `np.diagflat( vect, k )` | crée une matrice carrée de dimension len(vect)+|k| avec les éléments du vecteur vect sur la k-diagonale |\n",
    "| `np.eye(N,N)`| crée la matrice Identité dans $\\mathcal{M}_{N}(\\mathbb{R})$"
   ]
  },
  {
   "cell_type": "markdown",
   "metadata": {},
   "source": [
    "Dans ce TP, on s'intéresse à la résolution de l'équation parabolique suivante :\n",
    "\n",
    "\\begin{equation}\n",
    "  \\begin{cases}\n",
    "  u_t (x,t) - u_{xx} (x,t) + u(x,t) = f(x) & (x,t)\\in]0,1[ \\times  ]0,1]\\\\\n",
    "  u(x,0) = 0 & x\\in ]0,1[\\\\\n",
    "    u(0,t) = u(1,t) = 0 & t \\in ]0,1].\n",
    "    \\end{cases}\n",
    "     \\tag{P}\n",
    "\\end{equation}"
   ]
  },
  {
   "cell_type": "markdown",
   "metadata": {},
   "source": [
    "On peut facilement vérifier que si $f(x,t) = \\sin(\\pi x)$, la fonction\n",
    "\n",
    "$$\n",
    "  u(x,t) = \\left(1-e^{-(1+\\pi^2)t}\\right) \\frac{1}{1+\\pi^2} \\sin(\\pi x)\n",
    "$$\n",
    "\n",
    "est solution de (P)."
   ]
  },
  {
   "cell_type": "markdown",
   "metadata": {},
   "source": [
    "On va chercher une solution approchée de (P) en utilisant différentes méthodes : Euler explicite, Euler implicite et la $\\theta$-méthode. "
   ]
  },
  {
   "cell_type": "markdown",
   "metadata": {},
   "source": [
    "**(0)** Ecrire une fonction python `solex(x,t)` qui calcule la solution exacte de (P) et la tracer."
   ]
  },
  {
   "cell_type": "code",
   "execution_count": 3,
   "metadata": {},
   "outputs": [],
   "source": [
    "def solex(x,t):\n",
    "    return (1 - np.exp(-(1 + np.pi**2)*t)) * np.sin(np.pi * x) /(1 + np.pi**2)\n"
   ]
  },
  {
   "cell_type": "code",
   "execution_count": 40,
   "metadata": {},
   "outputs": [
    {
     "data": {
      "text/plain": [
       "<matplotlib.collections.QuadMesh at 0x7f5ec26a7610>"
      ]
     },
     "execution_count": 40,
     "metadata": {},
     "output_type": "execute_result"
    },
    {
     "data": {
      "image/png": "[encoded data removed]",
      "text/plain": [
       "<Figure size 640x480 with 1 Axes>"
      ]
     },
     "metadata": {},
     "output_type": "display_data"
    }
   ],
   "source": [
    "x = np.linspace(0, 1, 100)\n",
    "t = np.linspace(0, 1, 100)\n",
    "X, T = np.meshgrid(x, t)\n",
    "U = solex(X,T)\n",
    "plt.pcolormesh(X, T, U)"
   ]
  },
  {
   "cell_type": "markdown",
   "metadata": {},
   "source": [
    "## Schéma d'Euler explicite"
   ]
  },
  {
   "cell_type": "markdown",
   "metadata": {},
   "source": [
    "Étant donnés deux entiers $N, T\\in \\mathbb{N}^*$, on pose $h= 1/(N+1)$ et $x_i = ih$,\n",
    "$k = 1/J$ et $t_j = jk$. Le but est encore une fois de calculer des valeurs d'approximation $u_i^j \\approx u(x_i,t_j)$, pour $i=0,1,\\cdots, N+1$  et $j=0,1,\\cdots, J$.\n",
    "On considère le schéma explicite, défini par\n",
    "\n",
    "\\begin{equation}\n",
    "    \\begin{cases}\n",
    "      \\displaystyle \\frac{u^{j+1}_i-u^j_i}{k} - \\frac{u^j_{i+1}-2u^j_i+u^j_{i-1}}{h^2} + u_i^j= f(x_i)\n",
    "    &i =1,\\dots, N\\;\\; j = 1,\\dots, T\\\\\n",
    "      u_i^0 = 0 &i = 1,\\cdots, N \\\\\n",
    "      u_0^j = u_{N+1}^j = 0  &j = 0, \\dots, J.\n",
    "    \\end{cases}\n",
    "    \\tag{EE}\n",
    "\\end{equation}\n",
    "\\begin{equation}\n",
    "    \\begin{cases}\n",
    "      \\displaystyle u^{j+1}_i = k f(x_i) - k (u_i^j - \\frac{u^j_{i+1}-2u^j_i+u^j_{i-1}}{h^2}) + u^j_i\n",
    "    &i =1,\\dots, N\\;\\; j = 1,\\dots, T\\\\\n",
    "      u_i^0 = 0 &i = 1,\\cdots, N \\\\\n",
    "      u_0^j = u_{N+1}^j = 0  &j = 0, \\dots, J.\n",
    "    \\end{cases}\n",
    "    \\tag{EE}\n",
    "\\end{equation}\n",
    "Les inconnues sont donc les valeurs $u^j_1, u^j_2,\\ldots,u^j_N$, pour $i=1,\\cdots,N$ et $j=1,\\cdots, J$.\n",
    "À chaque pas de temps, on notera le vecteur inconnu  $ U^j=(u_0^j,u^j_1,\\ldots,u^j_N,u_{N+1}^j)^T. $"
   ]
  },
  {
   "cell_type": "markdown",
   "metadata": {},
   "source": [
    "**(1)** Écrire une fonction `matrice_EE(N,fct)` qui prend en argument le nombre de points `N` et une fonction `fct` et qui renvoie la matrice $A_h$ et le vecteur $F_h$ tels que le système discret (EE) s'écrit sous forme vectorielle\n",
    "\n",
    "\\begin{equation}\n",
    "\\left\\{\t\\begin{array}{ll}\n",
    "U^{j+1} = (I- k A_h) U^j + k F_h &   j = 1,\\cdots, J\\\\\n",
    "\t\t  \t\\nonumber  U^0 = 0. &\n",
    " \t\t\\end{array} \\right.\n",
    "\t\\end{equation}\n",
    "    \n",
    "   "
   ]
  },
  {
   "cell_type": "code",
   "execution_count": 20,
   "metadata": {},
   "outputs": [],
   "source": [
    "def matrice_EE(N,fct):\n",
    "    h = 1/(N+1)\n",
    "    \n",
    "    # matrice diagonale \n",
    "    \n",
    "    \n",
    "    vect0 = np.ones(N+2)* (1 + 2/(h**2))\n",
    "    A0 = np.diagflat(vect0, 0)\n",
    "    \n",
    "    \n",
    "\n",
    "    vect1 = np.ones(N+1) * (-1/(h**2))\n",
    "    # matrice supérieure\n",
    "    A1 = np.diagflat(vect1, 1)\n",
    "    \n",
    "    # matrice inférieure\n",
    "    A2 = np.diagflat(vect1, -1)\n",
    "\n",
    "\n",
    "    Ah = A0 + A1 +A2 \n",
    "    Ah[0,0] = 0\n",
    "    Ah[0,1] = 0\n",
    "    Ah[N+1,N] = 0\n",
    "    Ah[N+1,N+1] = 0\n",
    "    # Fh\n",
    "    Fh = np.zeros((N+2,1))\n",
    "    Fh[1:N,0] = fct(np.linspace(0,1,N+1)[1:N])\n",
    "    Fh[0,0] = 0\n",
    "    Fh[-1,0] = 0\n",
    "\n",
    "    \n",
    "\n",
    "    return Ah, Fh"
   ]
  },
  {
   "cell_type": "code",
   "execution_count": 21,
   "metadata": {},
   "outputs": [
    {
     "data": {
      "text/plain": [
       "(array([[  0.,   0.,   0.,   0.,   0.,   0.],\n",
       "        [-25.,  51., -25.,   0.,   0.,   0.],\n",
       "        [  0., -25.,  51., -25.,   0.,   0.],\n",
       "        [  0.,   0., -25.,  51., -25.,   0.],\n",
       "        [  0.,   0.,   0., -25.,  51., -25.],\n",
       "        [  0.,   0.,   0.,   0.,   0.,   0.]]),\n",
       " array([[0.],\n",
       "        [0.],\n",
       "        [0.],\n",
       "        [0.],\n",
       "        [0.],\n",
       "        [0.]]))"
      ]
     },
     "execution_count": 21,
     "metadata": {},
     "output_type": "execute_result"
    }
   ],
   "source": [
    "matrice_EE(4,lambda x : 0)"
   ]
  },
  {
   "cell_type": "markdown",
   "metadata": {},
   "source": [
    "**(2)** Écrire une fonction `EulerEx(u0, N,J,fct)` qui résoud (EE) et renvoie le vecteur `[x,h,k,U]` où `x` est la discrétisation en espace, `h` et `k` les pas d'espace et de temps et `U` une matrice de taille $(N+2)\\times (J+1)$ telle que $U[i,j] \\approx u(x_i , t_j)$. Tracer la solution."
   ]
  },
  {
   "cell_type": "code",
   "execution_count": 52,
   "metadata": {},
   "outputs": [],
   "source": [
    "def EulerEx(u0,N,J,fct):\n",
    "    x = np.linspace(0, 1, N+2)\n",
    "    t = np.linspace(0, 1, J+1)\n",
    "    h = 1/(N+1)\n",
    "    k = 1/J\n",
    "\n",
    "    Ah,Fh = matrice_EE(N,fct)\n",
    "\n",
    "    U = np.zeros((N+2,J+1))\n",
    "    U[:,0] = u0(np.linspace(0,1,N+2))\n",
    "    for t in range(J):\n",
    "        breakpoint()\n",
    "        U[:,t+1] = ((np.identity(N+2) - k * Ah)@U[:,t][:,None] + k * Fh)[:,0]\n",
    "        \n",
    "    return x, h,k,U\n",
    "    "
   ]
  },
  {
   "cell_type": "code",
   "execution_count": 80,
   "metadata": {},
   "outputs": [],
   "source": [
    "N = 10\n",
    "J = 2 * (N+1)**2\n",
    "x,h,k,U = EulerEx(lambda x : 0,N,J,lambda x : np.sin(np.pi*x))"
   ]
  },
  {
   "cell_type": "code",
   "execution_count": 81,
   "metadata": {},
   "outputs": [
    {
     "data": {
      "text/plain": [
       "<matplotlib.colorbar.Colorbar at 0x7f5ec1c41c50>"
      ]
     },
     "execution_count": 81,
     "metadata": {},
     "output_type": "execute_result"
    },
    {
     "data": {
      "image/png": "[encoded data removed]",
      "text/plain": [
       "<Figure size 640x480 with 2 Axes>"
      ]
     },
     "metadata": {},
     "output_type": "display_data"
    }
   ],
   "source": [
    "t = np.linspace(0, 1, J+1)\n",
    "X, T = np.meshgrid(x, t)\n",
    "plt.pcolormesh(X, T, U.T)\n",
    "plt.colorbar()"
   ]
  },
  {
   "cell_type": "markdown",
   "metadata": {},
   "source": [
    "**(5)** Que se passe-t-il si la CFL $k \\leq \\frac{h^2}{2}$ n'est pas satisfaite ?\n",
    "\n",
    "Le schéma n'est pas stable"
   ]
  },
  {
   "cell_type": "markdown",
   "metadata": {},
   "source": [
    "**(4)** Calculer pour différentes valeurs de $N$ et $J = 2(N+1)^2$ (pour assurer la condition CFL) l'erreur \n",
    "\n",
    "$$\n",
    "E(N,J)= \\max_{1\\le j\\le J} \\left\\| U^j - \\Pi_h(u(t_j,\\cdot)) \\right\\|_\\infty\n",
    "$$\n",
    "\n",
    "et afficher les résultats. On rappelle que, selon la théorie, on devrait obtenir\n",
    "\n",
    "$$\n",
    "E(h,h^2) \\simeq C h^2.\n",
    "$$"
   ]
  },
  {
   "cell_type": "code",
   "execution_count": null,
   "metadata": {},
   "outputs": [],
   "source": []
  },
  {
   "cell_type": "code",
   "execution_count": null,
   "metadata": {},
   "outputs": [],
   "source": []
  },
  {
   "cell_type": "code",
   "execution_count": null,
   "metadata": {},
   "outputs": [],
   "source": []
  },
  {
   "cell_type": "markdown",
   "metadata": {},
   "source": [
    "## Schéma d'Euler implicite"
   ]
  },
  {
   "cell_type": "markdown",
   "metadata": {},
   "source": [
    "On considère encore une fois (P), mais on s'intéresse maintenant à trouver une approximation de sa solution avec la méthode d'Euler implicite.\n",
    "\n",
    "Étant donnés deux entiers $N, J\\in\\mathbb{N}^*$, on pose $h= 1/(N+1)$ et $x_i = ih$, $k = 1/J$ et $t_j = jk$. Le but est encore une fois de calculer des valeurs d'approximation $u_i^j\\approx u(x_i,t_j)$, pour $i=0,1,\\cdots, N+1$  et $j=0,1,\\cdots, J$.\n",
    "\n",
    "On considère  le schèma implicite, défini par\n",
    "\n",
    "\\begin{equation} \n",
    "\t\\begin{cases}\n",
    "\t  \\displaystyle \\frac{u^{j+1}_i-u^j_i}{k} - \\frac{u^{j+1}_{i+1}-2u^{j+1}_i+u^{j+1}_{i-1}}{h^2} + u_i^{j+1}= f(x_i)\n",
    "\t &i =1,\\dots, N\\;\\; j = 1,\\dots, J\\\\\n",
    "\t  u_i^0 = 0 &i = 1,\\dots, N \\\\\n",
    "\t  u_0^j = u_{N+1}^j = 0  &j = 0, \\dots, J.\n",
    "\t\\end{cases}\n",
    "\\end{equation}"
   ]
  },
  {
   "cell_type": "markdown",
   "metadata": {},
   "source": [
    "Les inconnues sont donc les valeurs $u^j_1, u^j_2,\\ldots,u^j_N$, pour $i=1,\\cdots,N$ et $j=1,\\cdots, J$.\n",
    "À chaque pas de temps, on notera le vecteur inconnu  $ U^j=(u_0^j,u^j_1,\\ldots,u^j_N,u_{N+1}^j)^T. $"
   ]
  },
  {
   "cell_type": "markdown",
   "metadata": {},
   "source": [
    "**(1)** Définir sous Python les matrices telles que le système discret (EI) s'écrit sous forme vectorielle\n",
    "\n",
    "\\begin{equation}\n",
    "\t\t\\left\\{\t\\begin{array}{ll}\n",
    "\t\t\t(I+ k A_h) U^{j+1} =  U^j + k F_h &   j = 1,\\dots, J\\\\\n",
    "\t\t  \t\\nonumber  U^0 = 0. &\n",
    " \t\t\\end{array} \\right.\n",
    "\\end{equation}\n",
    "    \n",
    "On remarque que dans ce cas la matrice $A$ est la même matrice que celle obtenue pour le schéma explicite."
   ]
  },
  {
   "cell_type": "code",
   "execution_count": null,
   "metadata": {},
   "outputs": [],
   "source": [
    "def matrice_EI(h,fct):\n",
    "    h = 1/(N+1)\n",
    "    \n",
    "    # matrice diagonale \n",
    "    \n",
    "    \n",
    "    \n",
    "    A0 = np.diagflat(vect0, 0)\n",
    "    \n",
    "   \n",
    "    \n",
    "    # matrice supérieure\n",
    "    A1 = np.diagflat(vect1, 1)\n",
    "   \n",
    "    \n",
    "    # matrice inférieure\n",
    "    A2 = np.diagflat(vect1, -1)\n",
    "   \n",
    "\n",
    "\n",
    "    Ah = A0 + A1 +A2 \n",
    "    \n",
    "    # Fh\n",
    "    \n",
    "    return Ah, Fh"
   ]
  },
  {
   "cell_type": "code",
   "execution_count": null,
   "metadata": {},
   "outputs": [],
   "source": []
  },
  {
   "cell_type": "markdown",
   "metadata": {},
   "source": [
    "**(2)** Écrire une fonction `EulerIm(u0, N,J,fct)` qui résoud (EI) et renvoie le vecteur `[x,h,k,U]` où `x` est la discrétisation en espace, `h` et `k` les pas d'espace et de temps et `U` une matrice de taille $(N+2)\\times (J+1)$ telle que $U[i,j] \\approx u(x_i , t_j)$. Tracer la solution."
   ]
  },
  {
   "cell_type": "code",
   "execution_count": null,
   "metadata": {},
   "outputs": [],
   "source": [
    "def EulerIm(u0,N,J,fct):\n",
    "    \n",
    "    \n",
    "    return x, h,k,U"
   ]
  },
  {
   "cell_type": "code",
   "execution_count": null,
   "metadata": {},
   "outputs": [],
   "source": [
    "\n"
   ]
  },
  {
   "cell_type": "code",
   "execution_count": null,
   "metadata": {},
   "outputs": [],
   "source": []
  },
  {
   "cell_type": "markdown",
   "metadata": {},
   "source": [
    "**(3)** Erreur"
   ]
  },
  {
   "cell_type": "code",
   "execution_count": null,
   "metadata": {},
   "outputs": [],
   "source": [
    "## Erreur par rapport à h\n",
    "\n"
   ]
  },
  {
   "cell_type": "code",
   "execution_count": null,
   "metadata": {},
   "outputs": [],
   "source": []
  },
  {
   "cell_type": "code",
   "execution_count": null,
   "metadata": {},
   "outputs": [],
   "source": [
    "## Erreur par rapport à h\n",
    "\n"
   ]
  },
  {
   "cell_type": "code",
   "execution_count": null,
   "metadata": {},
   "outputs": [],
   "source": []
  },
  {
   "cell_type": "code",
   "execution_count": null,
   "metadata": {},
   "outputs": [],
   "source": [
    " "
   ]
  },
  {
   "cell_type": "markdown",
   "metadata": {},
   "source": [
    "## La $\\theta$-méthode"
   ]
  },
  {
   "cell_type": "markdown",
   "metadata": {},
   "source": [
    "Les schéma d'Euler explicite et implicite soufrent d'un problème commun : l'ordre de discrétisation temporel et inférieur à l'ordre en espace. On considère ici une méthode, inspirée à la méthode des trapèzes, qui pose une intéressante solution à ce problème."
   ]
  },
  {
   "cell_type": "markdown",
   "metadata": {},
   "source": [
    "On considère encore une fois (P). Étant donnés deux entiers $N, J\\in\\mathbb{N}^*$, on pose $h= 1/(N+1)$ et $x_i = ih$, $k = 1/J$ et $t_j = jk$. Le but est encore une fois de calculer des valeurs d'approximation $u_i^j\\approx u(x_i,t_j)$, pour $i=0,1,\\dots, N+1$  et $j=0,1,\\dots, J$.\\\\\n",
    "\n",
    "Pour $\\theta \\in [0,1]$, on considère le schéma suivant,  \n",
    "\n",
    "\\begin{equation} \n",
    "\t\\begin{cases}\n",
    "\t  \\begin{aligned}\n",
    "\t  \\frac{u^{j+1}_i-u^j_i}{k} - & \\theta \\left( \\frac{u^{j+1}_{i+1}-2u^{j+1}_i+u^{j+1}_{i-1}}{h^2} + u_i^{j+1} \\right) \\\\\n",
    "\t  - &(1- \\theta)\\left( \\frac{u^j_{i+1}-2u^j_i+u^j_{i-1}}{h^2} + u_i^{j} \\right) =  \\theta f(x_i,t_{j+1}) + (1- \\theta) f(x_i,t_{j})\n",
    "\t  \\end{aligned}\n",
    "\t &i =1,\\dots, N\\;\\; j = 1,\\dots, J\\\\\n",
    "\t  u_i^0 = 0 &i = 1,\\dots, N \\\\\n",
    "\t  u_0^j = u_{N+1}^j = 0  &j = 0, \\dots, J,\n",
    "\t\\end{cases}\n",
    "\\end{equation}"
   ]
  },
  {
   "cell_type": "markdown",
   "metadata": {},
   "source": [
    "Les inconnues sont donc les valeurs $u^j_1, u^j_2,\\dots,u^j_N$, pour $i=1,\\dots,N$ et $j=1,\\dots, J$.\n",
    "À chaque pas de temps, on notera le vecteur inconnu  $ U^J=(u_0^J,\\dots,u^J_N,u_{N+1}^J)^T. $"
   ]
  },
  {
   "cell_type": "markdown",
   "metadata": {},
   "source": [
    "**(1)**  Définir sous Python les matrices telles que le système discret ($\\theta$-M) s'écrit sous forme vectorielle\n",
    "\n",
    "\\begin{equation}\n",
    "\t\t\\left\\{\t\\begin{array}{ll}\n",
    "\t\t\t\\left(I+ k\\theta A_h\\right) U^{j+1} =  \\left(I - (1-\\theta)k A_h\\right) U^j + k  F_h &   j = 1,\\dots, J\\\\\n",
    "\t\t  \t\\nonumber  U^0 = 0. &\n",
    " \t\t\\end{array} \\right.\n",
    "\\end{equation}\n",
    "\n",
    "On remarque que dans ce cas la matrice $A_h$ est la même matrice obtenue pour le schéma explicite."
   ]
  },
  {
   "cell_type": "code",
   "execution_count": null,
   "metadata": {},
   "outputs": [],
   "source": [
    "def theta_methode(u0,N,J,theta, fct):\n",
    "    \n",
    "    \n",
    "    return x, h,k,U"
   ]
  },
  {
   "cell_type": "code",
   "execution_count": null,
   "metadata": {},
   "outputs": [],
   "source": [
    "\n"
   ]
  },
  {
   "cell_type": "markdown",
   "metadata": {},
   "source": [
    "**(2)** On s'intéresse maintenant au cas particulier $\\theta = \\frac 12$. Ce schéma s'appelle le schéma de Crank Nicolson. Calculer pour différentes valeurs de $h$ et $k$ l'erreur \n",
    "\n",
    "$$ \n",
    "E(h,k)= \\max_{1\\le n\\le T} \\left\\| U^n - \\Pi_h(u(t_n,\\cdot)) \\right\\|_\\infty\n",
    "$$\n",
    "\n",
    "et afficher les résultats. On peut montrer que\n",
    "\n",
    "$$\n",
    "E(h,k) \\simeq C (h^2 + k^2)\n",
    "$$\n",
    "\n",
    "sans conditions de stabilité.\n"
   ]
  },
  {
   "cell_type": "code",
   "execution_count": null,
   "metadata": {},
   "outputs": [],
   "source": [
    "# erreur en fonction du pas de temps\n",
    "\n"
   ]
  },
  {
   "cell_type": "code",
   "execution_count": null,
   "metadata": {},
   "outputs": [],
   "source": []
  },
  {
   "cell_type": "code",
   "execution_count": null,
   "metadata": {},
   "outputs": [],
   "source": [
    "# erreur en fonction du pas de temps\n",
    "\n"
   ]
  },
  {
   "cell_type": "code",
   "execution_count": null,
   "metadata": {},
   "outputs": [],
   "source": []
  },
  {
   "cell_type": "code",
   "execution_count": null,
   "metadata": {},
   "outputs": [],
   "source": []
  },
  {
   "cell_type": "code",
   "execution_count": null,
   "metadata": {},
   "outputs": [],
   "source": []
  },
  {
   "cell_type": "code",
   "execution_count": null,
   "metadata": {},
   "outputs": [],
   "source": []
  },
  {
   "cell_type": "code",
   "execution_count": null,
   "metadata": {},
   "outputs": [],
   "source": []
  },
  {
   "cell_type": "code",
   "execution_count": null,
   "metadata": {},
   "outputs": [],
   "source": []
  }
 ],
 "metadata": {
  "kernelspec": {
   "display_name": "Python 3 (ipykernel)",
   "language": "python",
   "name": "python3"
  },
  "language_info": {
   "codemirror_mode": {
    "name": "ipython",
    "version": 3
   },
   "file_extension": ".py",
   "mimetype": "text/x-python",
   "name": "python",
   "nbconvert_exporter": "python",
   "pygments_lexer": "ipython3",
   "version": "3.11.2"
  }
 },
 "nbformat": 4,
 "nbformat_minor": 4
}
