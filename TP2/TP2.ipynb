{
 "cells": [
  {
   "cell_type": "markdown",
   "id": "42f03085-30bd-4e1f-87bf-481a0687e5c3",
   "metadata": {},
   "source": [
    "# TP2 : Méthodes numériques à un pas"
   ]
  },
  {
   "cell_type": "markdown",
   "id": "0ffa4256-b9ce-4a7d-b241-7dcd4ca57e4e",
   "metadata": {},
   "source": [
    "On commence toujours par charger les librairies `numpy` et `matplotlib.pyplot` "
   ]
  },
  {
   "cell_type": "code",
   "execution_count": 1,
   "id": "7e6f0698-e0ee-4756-8942-a5fc89fd1b76",
   "metadata": {},
   "outputs": [
    {
     "name": "stderr",
     "output_type": "stream",
     "text": [
      "/home/jules/.venv/main/lib/python3.11/site-packages/matplotlib/projections/__init__.py:63: UserWarning: Unable to import Axes3D. This may be due to multiple versions of Matplotlib being installed (e.g. as a system package and as a pip package). As a result, the 3D projection is not available.\n",
      "  warnings.warn(\"Unable to import Axes3D. This may be due to multiple versions of \"\n"
     ]
    }
   ],
   "source": [
    "import numpy as np\n",
    "import matplotlib.pyplot as plt"
   ]
  },
  {
   "cell_type": "markdown",
   "id": "4b716d6d-47f3-4655-bfc6-f6bc5bd140f3",
   "metadata": {},
   "source": [
    "Voici quelques commandes utiles pour afficher les graphes :\n",
    "\n",
    "| | |\n",
    "|-|-|\n",
    "|`plt.figure(figsize = (10, 10))` | Crée une nouvelle fenêtre de taille [10,10] |\n",
    "| `plt.plot(x,y)` | Trace les points $(x_i,y_i)$ |\n",
    "| `plt.xlabel('Nom abscisse')` | Nomme l'axe des abscisses  |\n",
    "| `plt.ylabel('Nom ordonnée')` | Nomme l'axe des ordonnées  |\n",
    "| `plt.title('Titre figure')` |  Donne un titre à la figure|\n",
    "|`plt.legend()`| Permet d'afficher les légendes associées aux courbes |\n",
    "| `plt.loglog()`| trace la courbe  à l'échelle logarithmique| \n",
    "\n"
   ]
  },
  {
   "cell_type": "markdown",
   "id": "7f151445-c698-48a1-91a1-a7be28c72d65",
   "metadata": {},
   "source": [
    "Autres commandes utiles pour le TP :"
   ]
  },
  {
   "cell_type": "markdown",
   "id": "eab2e0d0-1c14-4efc-ac3e-98009747c5c3",
   "metadata": {},
   "source": [
    "| | |\n",
    "|-|-|\n",
    "| `np.array((n, p))` | Définit une matrice 2D dans $\\mathcal{M}_{2,3}(\\mathbb{R})$ |\n",
    "| `np.ones((2,3))`, ou `np.zeros((2,3))` | Définit une matrice 2D dans $\\mathcal{M}_{2,3}(\\mathbb{R})$ remplie de 1, ou 0 |\n",
    "| `A[2,:]` (ou `A[:,2]` ) | Renvoie la 3e ligne (ou colonne) de la matrice `A` (comme vecteur 1D) |\n",
    "| `np.abs(x)` | Applique la valeur absolue à tous les coefficients du vecteur `x` |\n",
    "| `max(abs(x))` |  calcule $\\max_{i=1,...,N} \\lvert x_i \\rvert$ |\n"
   ]
  },
  {
   "cell_type": "markdown",
   "id": "f8449473-e77f-43a5-9823-e86fa752bb9d",
   "metadata": {},
   "source": [
    "## I. Ordre d’une méthode\n",
    "Rappel sur le calcul de l’ordre d’une méthode numérique pour la résolution approchée d'EDOs.\n",
    " En utilisant les notations usuelles, l’erreur d’une méthode à un pas est définie comme\n",
    " \n",
    "$$\n",
    "\tE_h:= \\max_{n = 0, \\dots, N} \\left| y(t_n) - y_n \\right|\n",
    "$$\n",
    "\n",
    "où $t_n = t_0 + n_h$, $y$ est la solution exacte de l'EDO et $y_n$ la solution approchée obtenue par une méthode\n",
    "numérique. L’ordre du schéma est la plus grande valeur possible de $p > 0$ telle que\n",
    "\n",
    "$$\n",
    "\tE_h \\le C h^p\n",
    "$$\n",
    "\n",
    "pour $h$ petit et $C$ constante qui ne dépend pas de $h$. Si l'on prend le logarithme de l'inégalité précédente on obtient \n",
    "\n",
    "$$\n",
    "\t\\log E_h  \\le C' + p \\log h.\n",
    "$$\n",
    "\n",
    "Pour visualiser l'ordre d'une méthode on peut procéder de la manière suivante : pour différentes valeurs de $h$ on calcule l'erreur $E_h$ et on crée un graphe $(h, E_h)$  en échelle logarithmique. Les points devraient être au dessous d'une droite dont l'inclinaison est l'ordre $p$ de la méthode."
   ]
  },
  {
   "cell_type": "markdown",
   "id": "45c0cae0-bf60-4649-b29b-bc32dab84f8d",
   "metadata": {},
   "source": [
    "## I.A. Méthode d'Euler "
   ]
  },
  {
   "cell_type": "markdown",
   "id": "e0216923-ba3d-4cb1-878e-a8fa49e1923d",
   "metadata": {},
   "source": [
    "On souhaite coder le schéma d'Euler explicite pour les problèmes de Cauchy\n",
    "\n",
    "\\begin{equation}\n",
    "\t\\begin{cases}\n",
    "\t\t y'(t)= f(t,y(t)), \\quad t \\in (t_0,t_f]\\\\\n",
    "\t\t y(t_0)=y_0.\n",
    "\t\\end{cases}\n",
    "\\tag{EDO} \n",
    "\\end{equation}\n",
    "\n",
    "On rappelle qu'il s'agit d'une méthode à un pas qui s'écrit sous la forme\n",
    "\n",
    "\\begin{equation}\n",
    "\t\\begin{cases}\n",
    "\tt_{n+1} = t_n + h_n\\\\\n",
    "\ty_{n+1} = y_n+ h_n  f(t_n,y_n).\n",
    "\t\\end{cases}\n",
    "\\tag{EE}\n",
    "\\end{equation}\n",
    "\n",
    "où  $[t_0, t_1\\cdots, t_N]$ est une subdivision de $[t_0, t_f]$ et $h_n = t_{n+1} -t_n$."
   ]
  },
  {
   "cell_type": "markdown",
   "id": "1f5d49d2-a990-42eb-8573-685d42c47e17",
   "metadata": {},
   "source": [
    "**I.A.1)** Dans un script Python, écrivez une fonction de la forme `t_e, y_e = euler(y0,t0,tf,N,f)` qui calcule par la méthode d'Euler explicite (EE) sur un maillage de $N$ intervalles uniformes la solution approch\\'ee de (EDO),  et retourne ainsi le vecteur des valeurs `t_e= [t_0, t_1, ..., t_N]` et  le tableau des solutions approchées `y_e = [y_0,y_1, ..., y_N]`.\n",
    "\n",
    "On peut créer des maillages uniformes avec la commande `np.linspace(t0,tf,N+1)` et pour implémenter le schéma, on pourra utiliser, par exemple, une boucle `for n in range(N):`\n"
   ]
  },
  {
   "cell_type": "code",
   "execution_count": 2,
   "id": "8bc306ee-0b5c-4fcd-a2c1-84aa7467fce1",
   "metadata": {},
   "outputs": [],
   "source": [
    "def euler(y0, t0, tf, N, f):\n",
    "    t_e = np.linspace(t0,tf,N)\n",
    "    y_e = np.zeros_like(t_e)\n",
    "    y_e[0] = y0\n",
    "    \n",
    "    h = (tf -t0)/N\n",
    "    for n in range(1,N):\n",
    "        y_e[n] = y_e[n-1] + h * f(t_e[n-1],y_e[n-1])\n",
    "\n",
    "    return t_e , y_e"
   ]
  },
  {
   "cell_type": "markdown",
   "id": "f6666204-7431-4da8-97b6-0521dee3c4fb",
   "metadata": {},
   "source": [
    "#### Application au modèle logistique"
   ]
  },
  {
   "cell_type": "markdown",
   "id": "98692493-95c8-435d-ae00-56d96f5eef23",
   "metadata": {},
   "source": [
    "**I.A.2)** Appliquez la méthode d'Euler explicite au modèle logistique\n",
    "\n",
    "\\begin{equation}\n",
    "\\frac{dy}{dt}(t) = r \\; y(t) \\left( 1-\\frac{y(t)}{K}\\right).\n",
    "\\tag{Logistique}\n",
    "\\end{equation}\n",
    "\n",
    "Commencez par définir une fonction `f(t,y)` décrivant le champs de vitesse.\n",
    "Puis fixez les paramètres (donnèe initiale, intervalle de temps, etc.) : `y0 = 0.1, t0 = 0, tf = 10, N = 10, r= 1, K=1`\n"
   ]
  },
  {
   "cell_type": "code",
   "execution_count": 3,
   "id": "c9eb5dbb-8de3-4853-9b51-918bfb6f0834",
   "metadata": {},
   "outputs": [],
   "source": [
    "def f(t,y):\n",
    "    return r * y * (1 - y/K)"
   ]
  },
  {
   "cell_type": "markdown",
   "id": "fb25996e-a732-4f91-bd81-74221cb9cb75",
   "metadata": {},
   "source": [
    "**I.A.3)** Définissez une fonction `solex(t,y0)` qui calcule la solution exacte donnée par \n",
    "\n",
    "$$ y(t)  = \\frac{y_0 K}{y_0 - e^{-rt}(y_0-K)}, $$ \n",
    "        \n",
    "pour `K=1` et `r=1`. Puis comparez la à la solution approchée obtenue précédement. "
   ]
  },
  {
   "cell_type": "code",
   "execution_count": 7,
   "id": "8db0134e-a4ef-4b7d-8cb4-890d4860f913",
   "metadata": {},
   "outputs": [],
   "source": [
    "def solex(t,y0):\n",
    "    return (y0 * K) / (y0 - np.exp(-r*t) * (y0 - K))"
   ]
  },
  {
   "cell_type": "code",
   "execution_count": 8,
   "id": "5c42a37f-d8cf-4879-a000-9736278d9b1f",
   "metadata": {},
   "outputs": [
    {
     "data": {
      "text/plain": [
       "Text(0.5, 1.0, 'Modèle logistique : solutions approchée et exacte')"
      ]
     },
     "execution_count": 8,
     "metadata": {},
     "output_type": "execute_result"
    },
    {
     "data": {
      "image/png": "[encoded data removed]",
      "text/plain": [
       "<Figure size 640x480 with 1 Axes>"
      ]
     },
     "metadata": {},
     "output_type": "display_data"
    }
   ],
   "source": [
    "y0 = 0.1\n",
    "t0 = 0\n",
    "tf = 10\n",
    "N = 10\n",
    "r= 1\n",
    "K=1\n",
    "\n",
    "t_e,y_app = euler(y0, t0, tf, N, f)\n",
    "y_ex = solex(t_e,y0)\n",
    "\n",
    "plt.figure()\n",
    "\n",
    "plt.plot(t_e,y_app,label=\"Solution approchée\")\n",
    "plt.plot(t_e,y_ex,label=\"Solution exacte\")\n",
    "\n",
    "\n",
    "\n",
    "\n",
    "plt.legend()\n",
    "plt.xlabel(\"temps\")\n",
    "plt.ylabel(\"Densité de la population\")\n",
    "plt.title(\"Modèle logistique : solutions approchée et exacte\")"
   ]
  },
  {
   "cell_type": "markdown",
   "id": "01f54ff4-49f3-430a-9e61-3c5ca314196d",
   "metadata": {},
   "source": [
    "**I.A.4)**  On souhaite maintenant calculer l'erreur de la méthode et en déduire l'ordre de la méthode. "
   ]
  },
  {
   "cell_type": "markdown",
   "id": "a9bd4e0b-6e4e-4f03-9b2d-1cc5385e1673",
   "metadata": {},
   "source": [
    "*(a)* Calculez pour $h = 1/2^k$ avec $k =1,2, ...8$, l'erreur \n",
    "\n",
    "$$  E_h= \\max_{n=0,..,N}\\left| y(t_n) - y_n \\right|,$$\n",
    "\n",
    "à l'aide de la commande `max(abs())`.\n",
    "Affichez  les valeurs de $k,h$ et l'erreur $E_h$ avec `print()`. On pourrait mémoriser $[k,h,E_h]$ dans une matrice $8 \\times 3$."
   ]
  },
  {
   "cell_type": "code",
   "execution_count": 31,
   "id": "1d6aa20b-f802-4154-97cf-ba8ad084591b",
   "metadata": {},
   "outputs": [
    {
     "name": "stdout",
     "output_type": "stream",
     "text": [
      "Analyse de l'erreur pour Euler\n",
      "[[1.00000000e+00 1.25000000e+00 2.37562343e-01]\n",
      " [2.00000000e+00 6.25000000e-01 1.20446735e-01]\n",
      " [3.00000000e+00 3.12500000e-01 5.92636948e-02]\n",
      " [4.00000000e+00 1.56250000e-01 2.92212123e-02]\n",
      " [5.00000000e+00 7.81250000e-02 1.45289080e-02]\n",
      " [6.00000000e+00 3.90625000e-02 7.24088705e-03]\n",
      " [7.00000000e+00 1.95312500e-02 3.61362373e-03]\n",
      " [8.00000000e+00 9.76562500e-03 1.80504238e-03]]\n"
     ]
    }
   ],
   "source": [
    "error = np.zeros((8,3))\n",
    "\n",
    "for n in range(8):\n",
    "    N = np.power(2,n+3)\n",
    "    \n",
    "    t_e,y_app = euler(y0, t0, tf, N, f)\n",
    "    y_ex = solex(t_e,y0)\n",
    "    \n",
    "    h = (tf-t0)/N\n",
    "    err = np.max(np.abs(y_app - y_ex))\n",
    "    error[n,:] = n+1, h, err\n",
    "\n",
    "print(\"Analyse de l'erreur pour Euler\")       \n",
    "print(error)   "
   ]
  },
  {
   "cell_type": "markdown",
   "id": "3c56c2a8-0a1a-4197-9c2a-7d71cd75abdd",
   "metadata": {},
   "source": [
    "*(b)* Tracez,  à l'échelle logarithmique en utilisant `plt.loglog(...)`, l'erreur en fonction de $h$. \n",
    "Déduisez en que la méthode est d'ordre $1$ (en traçant $\\log E_h$ en fonction de $\\log h$)."
   ]
  },
  {
   "cell_type": "code",
   "execution_count": 32,
   "id": "ee2b64e4-046a-4e83-806c-9cfa6b96f17c",
   "metadata": {},
   "outputs": [
    {
     "data": {
      "text/plain": [
       "[<matplotlib.lines.Line2D at 0x7f0e0c66ba50>]"
      ]
     },
     "execution_count": 32,
     "metadata": {},
     "output_type": "execute_result"
    },
    {
     "data": {
      "image/png": "[encoded data removed]",
      "text/plain": [
       "<Figure size 640x480 with 1 Axes>"
      ]
     },
     "metadata": {},
     "output_type": "display_data"
    }
   ],
   "source": [
    "plt.loglog(error[:,1],error[:,2],\"-*\")"
   ]
  },
  {
   "cell_type": "markdown",
   "id": "5866c821-02da-4d70-8367-5f6422a635e2",
   "metadata": {},
   "source": [
    "Pour connaître le coefficient directeur d'une approximation linéaire d'un nuage de points $(x_i,y_i)$, on se sert de la librairie `scipy.stats` et de la fonction `linregress(X,Y)`."
   ]
  },
  {
   "cell_type": "code",
   "execution_count": 33,
   "id": "5f0c729b-6929-467e-872e-0fc7c3955983",
   "metadata": {},
   "outputs": [
    {
     "name": "stdout",
     "output_type": "stream",
     "text": [
      "L'ordre de la méthode est :  1.008116117420063\n"
     ]
    }
   ],
   "source": [
    "import scipy.stats as sc \n",
    "\n",
    "lgt = np.log(error[:,1])\n",
    "lge = np.log(error[:,2])\n",
    "\n",
    "droite = sc.linregress(lgt,lge)\n",
    "coefficient_directeur =droite[0]  # droite.slope\n",
    "print(\"L'ordre de la méthode est : \", coefficient_directeur)"
   ]
  },
  {
   "cell_type": "markdown",
   "id": "aff6d0f1-355c-4e7a-ab4d-06747885f563",
   "metadata": {
    "tags": []
   },
   "source": [
    "### I.B. Méthode de Heun"
   ]
  },
  {
   "cell_type": "markdown",
   "id": "8697057a-5599-470d-a8a4-41dd297e6ffa",
   "metadata": {},
   "source": [
    "Dans la suite, on va reprendre l'exemple du modèle logistique en utilisant une méthode d'ordre supérieur. "
   ]
  },
  {
   "cell_type": "markdown",
   "id": "f30d613a-790c-49de-98af-975b9c40ba2c",
   "metadata": {},
   "source": [
    "#### Ordre de la méthode"
   ]
  },
  {
   "cell_type": "markdown",
   "id": "0ef0d29f-f6fa-48c0-bde7-db26eb4c97bb",
   "metadata": {},
   "source": [
    "La méthode de Heun consiste à, tout d'abord, estimer la solution à l'instant $t_{n+1}$ en utilisant une étape de la méthode d'Euler explicite, puis à approcher l'aire de f(t,y) entre $t_n$ et $t_{n+1}$ par la moyenne entre $h_nf(t_{n}, y_{n})$ et $h_nf(t_{n+1}, y_{n+1})$. Cette estimation est alors utilisée pour calculer $y_{n+1}$. Elle peut s'écrire de la forme suivante\n",
    "    \n",
    "\\begin{equation}\n",
    "\\begin{cases}\n",
    "p_1 = f(t_n,y_n)\\\\\n",
    "p_2  = f(t_n+h_n,y_n + h_n p_1)\\\\\n",
    "y_{n+1}   = y_n+ \\frac{h_n}{2}\\left(p_1 + p_2\\right) \n",
    "\\end{cases}\n",
    "\\tag{Heun}\n",
    "\\end{equation}"
   ]
  },
  {
   "cell_type": "markdown",
   "id": "64b74dad-329e-42a8-abba-f425af7e124e",
   "metadata": {
    "tags": []
   },
   "source": [
    "**I.B.1)** Écrivez une fonction Python de la forme `t_h, y_h = heun(y0,t0,tf,N,f)` qui calcule par la méthode de Heun (H) sur un maillage de $N$ intervalles uniformes la solution approchée de (EDO),  et retourne ainsi le vecteur des valeurs `t_h= [t_0, t_1, ..., t_N]` et  le tableau des solutions approchées `y_h = [y_0,y_1, ..., y_N]`."
   ]
  },
  {
   "cell_type": "code",
   "execution_count": 34,
   "id": "d0ad2e74-8696-4c97-97bd-df79aa4a9208",
   "metadata": {},
   "outputs": [],
   "source": [
    "def heun(y0,t0,tf,N,f):\n",
    "    t_h = np.linspace(t0,tf,N)\n",
    "    y_h = np.zeros_like(t_h)\n",
    "    y_h[0] = y0\n",
    "    \n",
    "    h = (tf -t0)/N\n",
    "    for n in range(1,N):\n",
    "        p1 = f(t_h[n-1],y_h[n-1])\n",
    "        p2 = f(t_h[n], y_h[n-1] + h * p1)\n",
    "        y_h[n] = y_h[n-1] + h * 0.5 * (p1 + p2)\n",
    "         \n",
    "    return t_h , y_h"
   ]
  },
  {
   "cell_type": "markdown",
   "id": "e2a81169-2ec7-4858-b9a2-8a43f3c835b2",
   "metadata": {},
   "source": [
    "#### Application au modèle logistique"
   ]
  },
  {
   "cell_type": "markdown",
   "id": "d636f705-9cd1-4cb7-b0f1-ee8701eebf8d",
   "metadata": {},
   "source": [
    "Dans cette partie on va utiliser la méthode précédement introduitea sur l'équation logistique (E_logistique) et en déduire son ordre de convergence. En particulier, on va vérifier que la méthodes de Heun est bien d'ordres 2."
   ]
  },
  {
   "cell_type": "markdown",
   "id": "f12a5e76-acb6-424e-9d55-7936a8f3e648",
   "metadata": {
    "tags": []
   },
   "source": [
    "**I.B.1)** En reprenant les valeurs des paramétres utilisées pour la méthode d'Euler `y0 = 0.1, t0 = 0, tf = 10, N = 10, r= 1, K=1`, écrivez un script Python qui trace sur un même graphique la solution exacte ainsi que les solutions approchées trouvées avec les méthodes d'Euler et la méthode de Heun."
   ]
  },
  {
   "cell_type": "code",
   "execution_count": 35,
   "id": "5ed2f2c2-aad7-4729-a77d-4d9eaca5c61c",
   "metadata": {},
   "outputs": [
    {
     "data": {
      "text/plain": [
       "Text(0.5, 1.0, 'Solution apparochée du modèle logistique')"
      ]
     },
     "execution_count": 35,
     "metadata": {},
     "output_type": "execute_result"
    },
    {
     "data": {
      "image/png": "[encoded data removed]",
      "text/plain": [
       "<Figure size 1000x1000 with 1 Axes>"
      ]
     },
     "metadata": {},
     "output_type": "display_data"
    }
   ],
   "source": [
    "y0 = 0.1\n",
    "t0 = 0\n",
    "tf = 10\n",
    "N = 10\n",
    "r= 1\n",
    "K=1\n",
    "\n",
    "\n",
    "t_e,y_app = heun(y0, t0, tf, N, f)\n",
    "y_ex = solex(t_e,y0)\n",
    "\n",
    "plt.figure(figsize = (10, 10))\n",
    "\n",
    "plt.plot(t_e,y_app,label=\"Solution approchée\")\n",
    "plt.plot(t_e,y_ex,label=\"Solution exacte\")\n",
    "\n",
    "plt.legend()\n",
    "plt.xlabel('Temps')\n",
    "plt.ylabel('Densité de la population')\n",
    "plt.title('Solution apparochée du modèle logistique', fontstyle = 'italic')"
   ]
  },
  {
   "cell_type": "markdown",
   "id": "87040a49-7c4c-499e-aa34-eaff489f5678",
   "metadata": {
    "tags": []
   },
   "source": [
    "**I.B.2)** Calculez pour $h = 1/2^k$ avec $k =1,2, ...8$, l'erreur \n",
    "\n",
    "$$  E_h= \\max_{n=0,..,N}\\left| y(t_n) - y_n \\right|,$$\n",
    "\n",
    "à l'aide de la commande `max(abs())`.\n",
    "Affichez les valeurs de $k,h$ et l'erreur $E_h$ avec `print()` pour ces différentes méthodes. On pourra mémoriser $[k,h,E_h]$ dans une matrice $8 \\times 3$."
   ]
  },
  {
   "cell_type": "code",
   "execution_count": 36,
   "id": "f255d7ca-a1e9-4efc-b57b-935cfc58f998",
   "metadata": {
    "tags": []
   },
   "outputs": [
    {
     "name": "stdout",
     "output_type": "stream",
     "text": [
      "Analyse de l'erreur pour Heun [[1.00000000e+00 1.25000000e+00 1.21652797e-01]\n",
      " [2.00000000e+00 6.25000000e-01 5.41715247e-02]\n",
      " [3.00000000e+00 3.12500000e-01 2.41789667e-02]\n",
      " [4.00000000e+00 1.56250000e-01 1.11113381e-02]\n",
      " [5.00000000e+00 7.81250000e-02 5.29906244e-03]\n",
      " [6.00000000e+00 3.90625000e-02 2.58030123e-03]\n",
      " [7.00000000e+00 1.95312500e-02 1.27257549e-03]\n",
      " [8.00000000e+00 9.76562500e-03 6.31829621e-04]]\n"
     ]
    }
   ],
   "source": [
    "error_h = np.zeros((8,3))\n",
    "\n",
    "for n in range(8):\n",
    "    N = np.power(2,n+3)\n",
    "    \n",
    "    t_e,y_app = heun(y0, t0, tf, N, f)\n",
    "    y_ex = solex(t_e,y0)\n",
    "    \n",
    "    h = (tf-t0)/N\n",
    "    err_h = np.max(np.abs(y_app - y_ex))\n",
    "    \n",
    "    error_h[n,:] = n+1, h, err_h\n",
    "\n",
    "\n",
    "print(\"Analyse de l'erreur pour Heun\", error_h)       \n",
    "\n"
   ]
  },
  {
   "cell_type": "markdown",
   "id": "f8b9baaa-dcc6-4bfb-ab51-9abe45e2cf80",
   "metadata": {
    "tags": []
   },
   "source": [
    "**I.B.3)** Tracez,  à l'échelle logarithmique en utilisant `plt.loglog(...)`, les erreurs en fonction de $h$. \n",
    "Déduisez en l'ordre de la méthode."
   ]
  },
  {
   "cell_type": "code",
   "execution_count": 37,
   "id": "e754ad77-1fe7-45bb-a75f-ea67abfe6445",
   "metadata": {},
   "outputs": [
    {
     "data": {
      "text/plain": [
       "[<matplotlib.lines.Line2D at 0x7f0e0c641550>]"
      ]
     },
     "execution_count": 37,
     "metadata": {},
     "output_type": "execute_result"
    },
    {
     "data": {
      "image/png": "[encoded data removed]",
      "text/plain": [
       "<Figure size 640x480 with 1 Axes>"
      ]
     },
     "metadata": {},
     "output_type": "display_data"
    }
   ],
   "source": [
    "plt.loglog(error_h[:,1],error_h[:,2],\"-*\")\n"
   ]
  },
  {
   "cell_type": "code",
   "execution_count": 38,
   "id": "92a79f65-622b-43c4-984f-a1f012d798dc",
   "metadata": {},
   "outputs": [
    {
     "name": "stdout",
     "output_type": "stream",
     "text": [
      "L'ordre de la méthode est :  1.0825515749408416\n"
     ]
    }
   ],
   "source": [
    "lgt = np.log(error_h[:,1])\n",
    "lge = np.log(error_h[:,2])\n",
    "\n",
    "droite = sc.linregress(lgt,lge)\n",
    "coefficient_directeur =droite[0]  # droite.slope\n",
    "print(\"L'ordre de la méthode est : \", coefficient_directeur)"
   ]
  },
  {
   "cell_type": "markdown",
   "id": "ff76fdc4-a751-404a-8ed0-dc2cd13bb55a",
   "metadata": {},
   "source": [
    "#### Un exemple avec manque de régularité"
   ]
  },
  {
   "cell_type": "markdown",
   "id": "698eb3a4-d25f-489b-9588-2de78bcf592b",
   "metadata": {},
   "source": [
    "Dans cette partie, on va regarder l'ordre de la méthode pour lorsque le second membre $f$ n'est pas $\\mathcal{C}^2$."
   ]
  },
  {
   "cell_type": "markdown",
   "id": "256196a0-9fe9-43ef-9bdc-c856453dee7b",
   "metadata": {},
   "source": [
    "**I.B.4)** Appliquez la méthode de Heun pour résoudre l'équation différentielle suivante\n",
    "\n",
    "\\begin{equation}\n",
    "\\tag{1}\n",
    "y'(t) = -|y(t)|y(t)^{-2/3}\n",
    "\\end{equation}\n",
    "\n",
    "avec $y(0) = 1$. "
   ]
  },
  {
   "cell_type": "code",
   "execution_count": 49,
   "id": "0025694a-d7ab-45be-ab95-bc778b482c82",
   "metadata": {
    "tags": []
   },
   "outputs": [
    {
     "data": {
      "text/plain": [
       "[<matplotlib.lines.Line2D at 0x7f0e0c0bed90>]"
      ]
     },
     "execution_count": 49,
     "metadata": {},
     "output_type": "execute_result"
    },
    {
     "data": {
      "image/png": "[encoded data removed]",
      "text/plain": [
       "<Figure size 640x480 with 1 Axes>"
      ]
     },
     "metadata": {},
     "output_type": "display_data"
    }
   ],
   "source": [
    "def f(t,y):\n",
    "    if y <= 0 :\n",
    "        return 0\n",
    "    return - np.sign(y) * (y ** (1/3))\n",
    "\n",
    "y0 = 1\n",
    "t0 = 0\n",
    "tf = 3\n",
    "N = 100\n",
    "\n",
    "t,y = heun(y0,t0,tf,N,f)\n",
    "plt.plot(t,y)\n",
    "\n",
    "\n"
   ]
  },
  {
   "cell_type": "markdown",
   "id": "59773fae-9db1-4e9c-b8f4-a9f935ac7d36",
   "metadata": {},
   "source": [
    "**I.B.5)** La solution de (1) est \n",
    "\n",
    "$$\n",
    "y(t) = \\max\\left(1 -\\frac{2}{3}t, 0\\right)^{3/2}\n",
    "$$\n",
    "\n",
    "À l'aide de cette fonction, calculez l'erreur de la méthode. Que remarquez vous ?  \n",
    "*Astuce :* On peut remarquer que $\\max(x,0) = \\frac{|x| + x}{2}$."
   ]
  },
  {
   "cell_type": "code",
   "execution_count": 61,
   "id": "6fb1f2cd-3ee1-4b0c-8973-7fe16c6b2988",
   "metadata": {},
   "outputs": [
    {
     "name": "stdout",
     "output_type": "stream",
     "text": [
      "Analyse de l'erreur pour Heun [[1.00000000e+00 1.50000000e+00 2.50000000e-01]\n",
      " [2.00000000e+00 7.50000000e-01 1.96314713e-01]\n",
      " [3.00000000e+00 3.75000000e-01 8.78684968e-02]\n",
      " [4.00000000e+00 1.87500000e-01 3.94594909e-02]\n",
      " [5.00000000e+00 9.37500000e-02 1.89090257e-02]\n",
      " [6.00000000e+00 4.68750000e-02 9.23262914e-03]\n",
      " [7.00000000e+00 2.34375000e-02 4.56371238e-03]\n",
      " [8.00000000e+00 1.17187500e-02 2.26849152e-03]]\n"
     ]
    }
   ],
   "source": [
    "def sol(t):\n",
    "    return np.clip( 1 - 2*t/3,0,None)**(3/2)\n",
    "\n",
    "error_h = np.zeros((8,3))\n",
    "\n",
    "for n in range(8):\n",
    "    N = np.power(2,n+1)\n",
    "    t,y = heun(y0,t0,tf,N,f)\n",
    "    y_ex = sol(t)\n",
    "    \n",
    "    h = (tf-t0)/N\n",
    "    \n",
    "    err_h = np.max(np.abs(y - y_ex))\n",
    "    \n",
    "    error_h[n,:] = n+1, h, err_h\n",
    "\n",
    "\n",
    "print(\"Analyse de l'erreur pour Heun\", error_h)   \n",
    "\n",
    "\n",
    "\n"
   ]
  },
  {
   "cell_type": "code",
   "execution_count": 62,
   "id": "a2dd0ed8-d329-4faa-9e97-63cf799ee06c",
   "metadata": {},
   "outputs": [
    {
     "data": {
      "text/plain": [
       "[<matplotlib.lines.Line2D at 0x7f0e1f272d50>]"
      ]
     },
     "execution_count": 62,
     "metadata": {},
     "output_type": "execute_result"
    },
    {
     "data": {
      "image/png": "[encoded data removed]",
      "text/plain": [
       "<Figure size 640x480 with 1 Axes>"
      ]
     },
     "metadata": {},
     "output_type": "display_data"
    }
   ],
   "source": [
    "plt.loglog(error_h[:,1],error_h[:,2],\"-*\")\n"
   ]
  },
  {
   "cell_type": "code",
   "execution_count": null,
   "id": "d2572e66-6b94-440a-97f0-5937e7dcd00b",
   "metadata": {},
   "outputs": [],
   "source": []
  },
  {
   "cell_type": "code",
   "execution_count": null,
   "id": "5189f10a-7d2d-437f-9a42-672b762b316d",
   "metadata": {},
   "outputs": [],
   "source": []
  },
  {
   "cell_type": "markdown",
   "id": "13d3c60f-6249-4a91-b7c9-8c5db019f44d",
   "metadata": {},
   "source": [
    "## II. Résolution de systèmes d’EDOs"
   ]
  },
  {
   "cell_type": "markdown",
   "id": "0b4a6608-3988-48f6-a8d2-a2accd76c1b9",
   "metadata": {},
   "source": [
    "On souhaite utiliser les mèthodes prédédentes pour résoudre des système d'EDO sous la forme\n",
    "\\begin{equation}\n",
    "   Y(t) = F(t,Y(t)), \\qquad t \\in (t_0, t_f],   \n",
    "\\tag{Syst}\n",
    "\\end{equation}\n",
    "\n",
    "où $Y(t) = (y_1(t), y_2(t))^T $ et $F(t,Y(t)) = (f_1(t,Y(t)), f_2(t,Y(t)) )^T$, avec $Y(t_0) = (y_{1,0}, y_{2,0})^T$."
   ]
  },
  {
   "cell_type": "markdown",
   "id": "951ca024-cd5c-4f7a-ac8f-81b9674a2860",
   "metadata": {},
   "source": [
    "### II.A. Méthode d'Euler explicite"
   ]
  },
  {
   "cell_type": "markdown",
   "id": "f96dff7d-d78d-4c59-8a11-0caf6a14979a",
   "metadata": {},
   "source": [
    "Le schéma d'Euler associé à ce système s'écrit de la façon suivante :\n",
    "\n",
    "\\begin{equation}\n",
    "  \\begin{cases}\n",
    "   t_{n+1} = t_n +h_n,\\\\\n",
    "   y_{1,n+1}  = y_{1,n} + h_n f_1(t_n,y_{1,n},y_{2,n}),\\\\\n",
    "   y_{2,n+1}  = y_{2,n} + h_n f_2(t_n,y_{1,n},y_{2,n})\n",
    "  \\end{cases}, \\qquad t \\in (t_0, t_f],   \n",
    "\\tag{Syst}\n",
    "\\end{equation}"
   ]
  },
  {
   "cell_type": "markdown",
   "id": "3492261b-7d4b-4490-9c0e-3a26d68f6936",
   "metadata": {},
   "source": [
    "**II.A.1)** Dans un script Python, modifiez la fonction `euler` pour calculer par la méthode d'Euler explicite (E_Syst) sur un maillage de $N$ intervalles uniformes la solution approchée de (Syst),  et retourne ainsi le vecteur des valeurs `t_e= [t0, t1, ..., tN]` et  le tableau des solutions approchées `y1_e = [y1_0,y1_1, ..., y1_N]` et `y2_e = [y2_0,y2_1, ..., y2_N]`."
   ]
  },
  {
   "cell_type": "code",
   "execution_count": null,
   "id": "17a7c785-034b-4f74-a781-99ea98ebabed",
   "metadata": {},
   "outputs": [],
   "source": [
    "def euler_syst(y10, y20, t0, tf, N, fct):\n",
    "    h = (tf-t0)/N\n",
    "\n",
    "    t_e = \n",
    "    y1_e = \n",
    "    y2_e = \n",
    "\n",
    "\n",
    "    \n",
    "    \n",
    "    for n in range(N):\n",
    "        \n",
    "        \n",
    "    \n",
    "    return (t_e, y1_e, y2_e)"
   ]
  },
  {
   "cell_type": "code",
   "execution_count": null,
   "id": "cf9664ac-6121-4ef8-80bc-1fad325cf4b6",
   "metadata": {},
   "outputs": [],
   "source": []
  },
  {
   "cell_type": "markdown",
   "id": "d9e18a93-43fa-4b46-ad58-0e3282a2a37e",
   "metadata": {},
   "source": [
    "#### Application au modèle de Lotka-Volterra"
   ]
  },
  {
   "cell_type": "markdown",
   "id": "b16bc553-f53f-4973-bb20-65d0b4851b6a",
   "metadata": {},
   "source": [
    "Le système de Lokta-Volterra , ou modèle proie-prédateur, s'écrit de la forme \n",
    "\n",
    "\\begin{equation}\n",
    "\t    \\begin{cases}\n",
    "\t        y_1'(t) = y_1(t) \\left( 1 - y_2(t) \\right) \\\\\n",
    "\t        y_2'(t) = y_2(t) \\left( y_1(t) - 1 \\right)\n",
    "\t    \\end{cases}, \\; \\;\\; t\\in(t_0,t_f]\n",
    "\\tag{L-V}\n",
    "\\end{equation}\n",
    "    \n",
    "avec  $y_1(t_0) = y_{1,0}$ et $y_2(t_0) = y_{2,0}$."
   ]
  },
  {
   "cell_type": "markdown",
   "id": "735b44d4-ccdd-497d-a431-9cb68dfcf5f2",
   "metadata": {},
   "source": [
    "**II.A.2)** Fixez d'abord les paramètres (données initiales, intervalle de temps, etc.) `y10 = 3, y20 = 0.5, t0 = 0, tf = 50, N=1000 ` puis définisez une fonction `F(t,y1,y2)` qui décrit le champs de vitesse du système."
   ]
  },
  {
   "cell_type": "code",
   "execution_count": null,
   "id": "8108ae8a-f1a6-4b15-b968-cfef202aff5a",
   "metadata": {},
   "outputs": [],
   "source": [
    "y10 = \n",
    "y20 = \n",
    "t0 = \n",
    "tf =\n",
    "N = \n",
    "\n",
    "def F(t,y1,y2):\n",
    "    return "
   ]
  },
  {
   "cell_type": "code",
   "execution_count": null,
   "id": "3d7680a4-adf2-4b13-98c6-02d2027d2eb0",
   "metadata": {},
   "outputs": [],
   "source": []
  },
  {
   "cell_type": "markdown",
   "id": "c49aa736-9077-40f9-bad6-bf0354680820",
   "metadata": {},
   "source": [
    "**II.A.3)** Utilisez la fonction `euler_syst` pour calculer une solution approchée du système Lokta-Voterra. En particulier, tracez le graphe approché de $(t, y_1(t))$ (population totale des proies) et $(t, y_2(t))$ (population totale des prédateurs)."
   ]
  },
  {
   "cell_type": "code",
   "execution_count": null,
   "id": "7ddb22f2-3637-4e0a-9874-ded7739c6413",
   "metadata": {},
   "outputs": [],
   "source": [
    "\n",
    "\n",
    "\n",
    "\n",
    "plt.figure()\n",
    "\n",
    "\n",
    "\n",
    "plt.legend()\n",
    "plt.title(\"évolution de la population des proies et des prédateurs\")"
   ]
  },
  {
   "cell_type": "code",
   "execution_count": null,
   "id": "41d8d22f-c873-4e0b-b1ab-2ee7a81d12c4",
   "metadata": {},
   "outputs": [],
   "source": []
  },
  {
   "cell_type": "markdown",
   "id": "a59827ea-6f35-4714-95d3-54463666cde5",
   "metadata": {},
   "source": [
    "**II.A.4)** Tracez le diagramme de phase du système, c'est à dire, le graphe approchée de (y1(t), y2(t))."
   ]
  },
  {
   "cell_type": "code",
   "execution_count": null,
   "id": "0137c453-5b38-46b1-8b75-c2bf6bcecb0c",
   "metadata": {},
   "outputs": [],
   "source": [
    "plt.figure()\n",
    "\n",
    "\n",
    "\n",
    "plt.xlabel('proie')\n",
    "plt.ylabel('predateur')\n",
    "plt.title(\"Diagramme de phase\")"
   ]
  },
  {
   "cell_type": "code",
   "execution_count": null,
   "id": "add6c7a0-cb10-41dd-91ba-03e8d2342f97",
   "metadata": {},
   "outputs": [],
   "source": []
  },
  {
   "cell_type": "markdown",
   "id": "6f2c1f5e-5e38-4cbd-9ad2-ef7e95e1b9f8",
   "metadata": {},
   "source": [
    "**II.A.5)** On a vu (TP1) que la fonction\n",
    "\n",
    "$$\n",
    "  C(y_1,y_2) := - \\ln x + x - \\ln y + y \n",
    "  $$\n",
    " est constante le long des solutions du système (L-V). Cette propriété, est-elle vérifiée aussi par la solution numérique de la méthode d'Euler (au moins approximativement) ? Tracez le graphe approché de $(t, C(y_1(t),y_2(t)))$."
   ]
  },
  {
   "cell_type": "code",
   "execution_count": null,
   "id": "9d010e50-ca82-471a-b71a-c7b377a0b7e5",
   "metadata": {},
   "outputs": [],
   "source": [
    "\n"
   ]
  },
  {
   "cell_type": "markdown",
   "id": "26d09c0a-8029-448b-b642-513e5e9b0246",
   "metadata": {},
   "source": [
    "**Remarque :**  On peut remarquer que l'energie du système n'est pas du tout conservée par\n",
    "    la méthode numérique. Les erreur introduites par la méthode sont trops \n",
    "    grandes. Vous pouvez comprendre l'interèt de construire des méthodes d'ordre\n",
    "    supèrieure pour essayer de contourner ce problème."
   ]
  },
  {
   "cell_type": "markdown",
   "id": "b9d1d318-a441-4eab-b2b6-c78fd0ebfee1",
   "metadata": {},
   "source": [
    "**II.A.6)** Refaites les simulations avec $N = 10000$, $N=100000$, $N=1000000$. Que constatez vous ?"
   ]
  },
  {
   "cell_type": "code",
   "execution_count": null,
   "id": "fc502cb2-b8e3-4270-98c8-0c823f5d14e8",
   "metadata": {},
   "outputs": [],
   "source": []
  },
  {
   "cell_type": "markdown",
   "id": "007a9611-aa3c-4d09-93ff-be4d7abf61c4",
   "metadata": {},
   "source": [
    "## II.B. Méthode de Heun pour les systèmes"
   ]
  },
  {
   "cell_type": "markdown",
   "id": "5a55265d-4b19-4ba5-961a-715bff4d5107",
   "metadata": {},
   "source": [
    "On va maintenant utiliser la méthode de Heun pour résoudre des système d'EDO sous la forme\n",
    "\\begin{equation}\n",
    "   Y(t) = F(t,Y(t)), \\qquad t \\in (t_0, t_f],   \n",
    "\\tag{Syst}\n",
    "\\end{equation}\n",
    "\n",
    "où $Y(t) = (y_1(t), y_2(t))^T $ et $F(t,Y(t)) = (f_1(t,Y(t)), f_2(t,Y(t)) )^T$, avec $Y(t_0) = (y_{1,0}, y_{2,0})^T$."
   ]
  },
  {
   "cell_type": "markdown",
   "id": "765e9d08-9ba1-4b7e-9832-cd2bcb0621b8",
   "metadata": {},
   "source": [
    "La méthode de Heun pour (Syst) s'écrit de la façon suivante\n",
    "\n",
    "\\begin{equation}\n",
    "  \\begin{cases}\n",
    "   p_{1,1}  = f_1(t_n, y_{1,n},y_{2,n}) \\\\\n",
    "   p_{1,2}  = f_2( t_n, y_{1,n},y_{2,n}) \\\\\n",
    "   p_{2,1} = f_1(t_n +h_n, y_{1,n} + h_n p_{1,1} ,y_{2,n}+ h_n p_{1,2})\\\\\n",
    "   p_{2,2} = f_2(t_n+h_n, y_{1,n} + h_n p_{1,1} ,y_{2,n}+ h_n p_{1,2})\\\\\n",
    "   y_{1,n+1}  = y_{1,n} + h_n (p_{2,1} + p_{1,1}),\\\\\n",
    "   y_{2,n+1}  = y_{2,n} + h_n (p_{2,2} + p_{1,2})\n",
    "  \\end{cases}  \n",
    "\\tag{Syst}\n",
    "\\end{equation}"
   ]
  },
  {
   "cell_type": "markdown",
   "id": "96eefc75-2500-4fc4-b092-0dcc7f8dcdfb",
   "metadata": {},
   "source": [
    "**II.B.1)** Écrivez une fonction Python de la forme ` heun_syst(y10,y20,t0,tf,N,f)` qui calcule par la méthode de Heun (H_Syst) sur un maillage de $N$ intervalles uniformes la solution approchée de (Syst),  et retourne ainsi le vecteur des valeurs `t= [t_0, t_1,..., t_N]` et  le tableau des solutions approchées `y1= [y1_0,y1_1,..., y1_N]` et `y2= [y2_0,y2_1,..., y2_N]`."
   ]
  },
  {
   "cell_type": "code",
   "execution_count": null,
   "id": "29e1089b-865e-4b64-a921-8d8aad6c4559",
   "metadata": {},
   "outputs": [],
   "source": [
    "def heun_syst(y10, y20, t0, tf, N, fct):\n",
    "    h = (tf-t0)/N\n",
    "\n",
    "    t = \n",
    "    y1 = \n",
    "    y2 = \n",
    "\n",
    "   \n",
    "    \n",
    "    for n in range(N):\n",
    "        \n",
    "        \n",
    "    \n",
    "    return (t, y1, y2)"
   ]
  },
  {
   "cell_type": "code",
   "execution_count": null,
   "id": "d8721bc6-f008-429f-8760-68c087c9ef68",
   "metadata": {},
   "outputs": [],
   "source": []
  },
  {
   "cell_type": "markdown",
   "id": "f123b965-dc2d-4f5c-8186-9c26caa9b262",
   "metadata": {},
   "source": [
    "#### Application au système Lokta-Volterra"
   ]
  },
  {
   "cell_type": "markdown",
   "id": "5915c66d-8d3d-4d91-9f43-26af7c4f4c02",
   "metadata": {},
   "source": [
    "On va maintenant utiliser la méthode précédement introduite sur le modèle de Lokta-Volterra (L-V)."
   ]
  },
  {
   "cell_type": "markdown",
   "id": "333f4e86-4bb9-4d0e-8fb5-a6e100a777cb",
   "metadata": {},
   "source": [
    "**II.B.2)** En utilisant les paramètres `y10 = 3, y20 = 0.5, t0 = 0, tf = 20, N=500 `, écrivez un script Python qui trace sur un même graphique les solutions approchées trouvées avec les méthodes d'Euler et de Heun."
   ]
  },
  {
   "cell_type": "code",
   "execution_count": null,
   "id": "333c8455-9ace-42ed-ac1f-631ccbefa37f",
   "metadata": {},
   "outputs": [],
   "source": [
    "y10 = \n",
    "y20 = \n",
    "t0 = \n",
    "tf = \n",
    "N =\n",
    "\n",
    "\n",
    "\n",
    "\n",
    "plt.figure(figsize = (10, 10))\n",
    "\n",
    "\n",
    "\n",
    "plt.legend()\n",
    "plt.xlabel('Temps')\n",
    "plt.ylabel('Densité de la population')\n",
    "plt.title('Solution apparochée du modèle logistique', fontstyle = 'italic')"
   ]
  },
  {
   "cell_type": "markdown",
   "id": "b7cc9185-bef5-43b8-863c-4a679baa3613",
   "metadata": {},
   "source": [
    "**II.B.3)** Tracez le diagramme de phase du système, c'est à dire, le graphe approchée de (y1(t), y2(t)) pour les différentes méthodes."
   ]
  },
  {
   "cell_type": "code",
   "execution_count": null,
   "id": "26b1e410-3c78-403a-a0ee-d7f8375ebefa",
   "metadata": {},
   "outputs": [],
   "source": [
    "plt.figure()\n",
    "\n",
    "\n",
    "\n",
    "\n",
    "plt.legend()\n",
    "plt.xlabel('proie')\n",
    "plt.ylabel('predateur')\n",
    "plt.title(\"Diagramme de phase\")"
   ]
  },
  {
   "cell_type": "code",
   "execution_count": null,
   "id": "712d5b47-55e5-4bd8-a36d-0f72e88e9911",
   "metadata": {},
   "outputs": [],
   "source": []
  },
  {
   "cell_type": "markdown",
   "id": "fb9ee7a1-4833-4f77-bfa5-24c2a7c73453",
   "metadata": {},
   "source": [
    "**II.B.4)** Tracez la fonction\n",
    "\n",
    "$$\n",
    "  C(y_1,y_2) := - \\ln x + x - \\ln y + y \n",
    "  $$\n",
    "  le long des solutions approchées du système (L-V). Que constatez vous par rapport à la méthode d'Euler ?"
   ]
  },
  {
   "cell_type": "code",
   "execution_count": null,
   "id": "880aaffe-b7c5-429a-a177-68d84e61aa12",
   "metadata": {},
   "outputs": [],
   "source": [
    "\n",
    "\n",
    "plt.figure()\n",
    "\n",
    "\n",
    "plt.legend()\n",
    "plt.xlabel('temps')\n",
    "plt.ylabel('C(t)')\n",
    "plt.title(\"Energie du systeme\")"
   ]
  },
  {
   "cell_type": "code",
   "execution_count": null,
   "id": "82ad096e-ae88-4bc5-b2ec-0968b5ee3b75",
   "metadata": {},
   "outputs": [],
   "source": []
  },
  {
   "cell_type": "code",
   "execution_count": null,
   "id": "866c056b-e0a1-4e39-8f5e-085c8e5fd923",
   "metadata": {},
   "outputs": [],
   "source": []
  }
 ],
 "metadata": {
  "kernelspec": {
   "display_name": "Python 3 (ipykernel)",
   "language": "python",
   "name": "python3"
  },
  "language_info": {
   "codemirror_mode": {
    "name": "ipython",
    "version": 3
   },
   "file_extension": ".py",
   "mimetype": "text/x-python",
   "name": "python",
   "nbconvert_exporter": "python",
   "pygments_lexer": "ipython3",
   "version": "3.11.2"
  }
 },
 "nbformat": 4,
 "nbformat_minor": 5
}
